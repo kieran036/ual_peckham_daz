{
 "cells": [
  {
   "cell_type": "markdown",
   "metadata": {},
   "source": [
    "### Task 1\n",
    "Transform the text to match the pattern below. Note the 'and' added before the last hobby. You may have a look at list slicing to achieve that. Make sure it works with any number of hobbies.\n",
    "\n",
    "my_text = 'My name is Marysia. I live in London. My hobbies are crocheting, hiking, music and computational art.'"
   ]
  },
  {
   "cell_type": "code",
   "execution_count": 2,
   "metadata": {},
   "outputs": [
    {
     "name": "stdout",
     "output_type": "stream",
     "text": [
      "[\"my_name = 'Kieran'\\n\", \"country = 'UK'\\n\", \"hobbies = ['Squash', 'Gardening', 'Swimming']\"]\n"
     ]
    }
   ],
   "source": [
    "file = open(\"task_1/intro_data.txt\")\n",
    "lines = file.readlines()\n",
    "print(lines)"
   ]
  },
  {
   "cell_type": "code",
   "execution_count": 3,
   "metadata": {},
   "outputs": [
    {
     "name": "stdout",
     "output_type": "stream",
     "text": [
      "{'my_name': 'Kieran', 'country': 'UK', 'hobbies': '[Squash, Gardening, Swimming]'}\n"
     ]
    }
   ],
   "source": [
    "data = {}\n",
    "\n",
    "for line in lines:\n",
    "    key, value = line.strip().replace(\"'\",\"\").split(' = ', 1)\n",
    "    data[key] = value\n",
    "\n",
    "print(data)"
   ]
  },
  {
   "cell_type": "code",
   "execution_count": 4,
   "metadata": {},
   "outputs": [
    {
     "name": "stdout",
     "output_type": "stream",
     "text": [
      " swimming\n"
     ]
    }
   ],
   "source": [
    "# Define values for formatted string.\n",
    "name_f = data['my_name']\n",
    "country_f = data['country']\n",
    "\n",
    "# Parsing the hobby entry from data dict.\n",
    "hobbies = data['hobbies'].lower()\n",
    "last_hobby = hobbies.rfind(' ')\n",
    "hobbies_f = hobbies[1: last_hobby -1]\n",
    "hobby_end_f = hobbies[last_hobby: -1]\n",
    "\n",
    "print(hobby_end_f)"
   ]
  },
  {
   "cell_type": "code",
   "execution_count": 5,
   "metadata": {},
   "outputs": [
    {
     "name": "stdout",
     "output_type": "stream",
     "text": [
      "My name is Kieran. I live in UK. My hobbies are squash, gardening and swimming.\n"
     ]
    }
   ],
   "source": [
    "my_text = 'My name is {name}. I live in {country}. My hobbies are {hobbies} and{hobby_end}.'\n",
    "fmat_txt = my_text.format(name = name_f, country = country_f, hobbies = hobbies_f, hobby_end = hobby_end_f)\n",
    "print(fmat_txt)"
   ]
  },
  {
   "cell_type": "code",
   "execution_count": 6,
   "metadata": {},
   "outputs": [
    {
     "name": "stdout",
     "output_type": "stream",
     "text": [
      "Text has been saved to output.txt\n"
     ]
    }
   ],
   "source": [
    "# Now save the created text to a new .txt file\n",
    "\n",
    "filename = \"task_one/output.txt\"\n",
    "\n",
    "# Open the file in write mode and save the text\n",
    "with open(filename, \"w\") as file:\n",
    "    file.write(fmat_txt)\n",
    "\n",
    "print(f\"Text has been saved to {filename}\")"
   ]
  },
  {
   "cell_type": "markdown",
   "metadata": {},
   "source": [
    "### Task 2\n",
    "Write a piece of code which checks if a number even or odd."
   ]
  },
  {
   "cell_type": "code",
   "execution_count": 9,
   "metadata": {},
   "outputs": [
    {
     "name": "stdout",
     "output_type": "stream",
     "text": [
      "6 is even\n"
     ]
    }
   ],
   "source": [
    "\n",
    "def odd_even(value):\n",
    "  statement = \"{number} is {checker}\"\n",
    "  if value%2 == 0:\n",
    "    print(statement.format(number = value, checker = \"even\"))\n",
    "  else:\n",
    "    print(statement.format(number = value, checker = \"odd\"))\n",
    "\n",
    "odd_even(6)"
   ]
  },
  {
   "cell_type": "code",
   "execution_count": 12,
   "metadata": {},
   "outputs": [
    {
     "name": "stdout",
     "output_type": "stream",
     "text": [
      "False\n"
     ]
    }
   ],
   "source": [
    "# Can you write the code within the function as a single line? TIP: think of casting Boolean values to integers adn using them for list indexing.\n",
    "\n",
    "def odd_even_short(value): print(not bool(value%2))\n",
    "odd_even_short(3)"
   ]
  },
  {
   "cell_type": "markdown",
   "metadata": {},
   "source": [
    "### Task 3\n",
    "Create a Python script which lists of 10 most popular words in \"The Story of the Fierce Bad Rabbit\". You may want to remove punctuation before counting the words. Save the information in a readable format to a new .txt file and publish on your GitHub."
   ]
  },
  {
   "cell_type": "code",
   "execution_count": null,
   "metadata": {},
   "outputs": [],
   "source": []
  }
 ],
 "metadata": {
  "kernelspec": {
   "display_name": "base",
   "language": "python",
   "name": "python3"
  },
  "language_info": {
   "codemirror_mode": {
    "name": "ipython",
    "version": 3
   },
   "file_extension": ".py",
   "mimetype": "text/x-python",
   "name": "python",
   "nbconvert_exporter": "python",
   "pygments_lexer": "ipython3",
   "version": "3.12.2"
  }
 },
 "nbformat": 4,
 "nbformat_minor": 2
}
