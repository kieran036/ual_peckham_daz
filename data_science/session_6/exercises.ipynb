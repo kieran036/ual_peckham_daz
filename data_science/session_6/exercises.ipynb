{
 "cells": [
  {
   "cell_type": "code",
   "execution_count": 1,
   "metadata": {},
   "outputs": [],
   "source": [
    "import re\n",
    "from collections import Counter"
   ]
  },
  {
   "cell_type": "markdown",
   "metadata": {},
   "source": [
    "### Task 1\n",
    "Transform the text to match the pattern below. Note the 'and' added before the last hobby. You may have a look at list slicing to achieve that. Make sure it works with any number of hobbies.\n",
    "\n",
    "my_text = 'My name is Marysia. I live in London. My hobbies are crocheting, hiking, music and computational art.'"
   ]
  },
  {
   "cell_type": "code",
   "execution_count": 2,
   "metadata": {},
   "outputs": [
    {
     "name": "stdout",
     "output_type": "stream",
     "text": [
      "[\"my_name = 'Kieran'\\n\", \"country = 'UK'\\n\", \"hobbies = ['Squash', 'Gardening', 'Swimming']\"]\n"
     ]
    }
   ],
   "source": [
    "file = open(\"task_1_files/intro_data.txt\")\n",
    "lines = file.readlines()\n",
    "print(lines)"
   ]
  },
  {
   "cell_type": "code",
   "execution_count": 3,
   "metadata": {},
   "outputs": [
    {
     "name": "stdout",
     "output_type": "stream",
     "text": [
      "{'my_name': 'Kieran', 'country': 'UK', 'hobbies': '[Squash, Gardening, Swimming]'}\n"
     ]
    }
   ],
   "source": [
    "data = {}\n",
    "\n",
    "for line in lines:\n",
    "    key, value = line.strip().replace(\"'\",\"\").split(' = ', 1)\n",
    "    data[key] = value\n",
    "\n",
    "print(data)"
   ]
  },
  {
   "cell_type": "code",
   "execution_count": 4,
   "metadata": {},
   "outputs": [
    {
     "name": "stdout",
     "output_type": "stream",
     "text": [
      " swimming\n"
     ]
    }
   ],
   "source": [
    "# Define values for formatted string.\n",
    "name_f = data['my_name']\n",
    "country_f = data['country']\n",
    "\n",
    "# Parsing the hobby entry from data dict.\n",
    "hobbies = data['hobbies'].lower()\n",
    "last_hobby = hobbies.rfind(' ')\n",
    "hobbies_f = hobbies[1: last_hobby -1]\n",
    "hobby_end_f = hobbies[last_hobby: -1]\n",
    "\n",
    "print(hobby_end_f)"
   ]
  },
  {
   "cell_type": "code",
   "execution_count": 5,
   "metadata": {},
   "outputs": [
    {
     "name": "stdout",
     "output_type": "stream",
     "text": [
      "My name is Kieran. I live in UK. My hobbies are squash, gardening and swimming.\n"
     ]
    }
   ],
   "source": [
    "my_text = 'My name is {name}. I live in {country}. My hobbies are {hobbies} and{hobby_end}.'\n",
    "fmat_txt = my_text.format(name = name_f, country = country_f, hobbies = hobbies_f, hobby_end = hobby_end_f)\n",
    "print(fmat_txt)"
   ]
  },
  {
   "cell_type": "code",
   "execution_count": 6,
   "metadata": {},
   "outputs": [
    {
     "name": "stdout",
     "output_type": "stream",
     "text": [
      "Text has been saved to task_1_files/output.txt\n"
     ]
    }
   ],
   "source": [
    "# Now save the created text to a new .txt file\n",
    "\n",
    "filename = \"task_1_files/output.txt\"\n",
    "\n",
    "# Open the file in write mode and save the text\n",
    "with open(filename, \"w\") as file:\n",
    "    file.write(fmat_txt)\n",
    "\n",
    "print(f\"Text has been saved to {filename}\")"
   ]
  },
  {
   "cell_type": "markdown",
   "metadata": {},
   "source": [
    "### Task 2\n",
    "Write a piece of code which checks if a number even or odd."
   ]
  },
  {
   "cell_type": "code",
   "execution_count": 7,
   "metadata": {},
   "outputs": [
    {
     "name": "stdout",
     "output_type": "stream",
     "text": [
      "6 is even\n"
     ]
    }
   ],
   "source": [
    "\n",
    "def odd_even(value):\n",
    "  statement = \"{number} is {checker}\"\n",
    "  if value%2 == 0:\n",
    "    print(statement.format(number = value, checker = \"even\"))\n",
    "  else:\n",
    "    print(statement.format(number = value, checker = \"odd\"))\n",
    "\n",
    "odd_even(6)"
   ]
  },
  {
   "cell_type": "code",
   "execution_count": 8,
   "metadata": {},
   "outputs": [
    {
     "name": "stdout",
     "output_type": "stream",
     "text": [
      "False\n"
     ]
    }
   ],
   "source": [
    "# Can you write the code within the function as a single line? TIP: think of casting Boolean values to integers adn using them for list indexing.\n",
    "\n",
    "def odd_even_short(value): print(not bool(value%2))\n",
    "odd_even_short(3)"
   ]
  },
  {
   "cell_type": "markdown",
   "metadata": {},
   "source": [
    "### Task 3\n",
    "Create a Python script which lists of 10 most popular words in \"The Story of the Fierce Bad Rabbit\". You may want to remove punctuation before counting the words. Save the information in a readable format to a new .txt file and publish on your GitHub."
   ]
  },
  {
   "cell_type": "code",
   "execution_count": 17,
   "metadata": {},
   "outputs": [
    {
     "name": "stdout",
     "output_type": "stream",
     "text": [
      "<_io.TextIOWrapper name='task_3_files/beatrix_potter_the_story_of_a_fierce_bad_rabbit.txt' mode='r' encoding='UTF-8'>\n"
     ]
    }
   ],
   "source": [
    "text = open(\"task_3_files/beatrix_potter_the_story_of_a_fierce_bad_rabbit.txt\")\n",
    "print(text)"
   ]
  },
  {
   "cell_type": "code",
   "execution_count": 18,
   "metadata": {},
   "outputs": [],
   "source": [
    "x = text.read().split()"
   ]
  },
  {
   "cell_type": "code",
   "execution_count": 19,
   "metadata": {},
   "outputs": [
    {
     "name": "stdout",
     "output_type": "stream",
     "text": [
      "['Once', 'upon', 'a', 'time', 'there', 'were', 'four', 'little', 'Rabbits,', 'and', 'their', 'names', 'were--', 'Flopsy,', 'Mopsy,', 'Cotton-tail,', 'and', 'Peter.', 'They', 'lived', 'with', 'their', 'Mother', 'in', 'a', 'sand-bank,', 'underneath', 'the', 'root', 'of', 'a', 'very', 'big', 'fir-tree.', \"'Now\", 'my', \"dears,'\", 'said', 'old', 'Mrs.', 'Rabbit', 'one', 'morning,', \"'you\", 'may', 'go', 'into', 'the', 'fields', 'or', 'down', 'the', 'lane,', 'but', \"don't\", 'go', 'into', 'Mr.', \"McGregor's\", 'garden:', 'your', 'Father', 'had', 'an', 'accident', 'there;', 'he', 'was', 'put', 'in', 'a', 'pie', 'by', 'Mrs.', \"McGregor.'\", \"'Now\", 'run', 'along,', 'and', \"don't\", 'get', 'into', 'mischief.', 'I', 'am', 'going', \"out.'\", 'Then', 'old', 'Mrs.', 'Rabbit', 'took', 'a', 'basket', 'and', 'her', 'umbrella,', 'and', 'went', 'through', 'the', 'wood', 'to', 'the', \"baker's.\", 'She', 'bought', 'a', 'loaf', 'of', 'brown', 'bread', 'and', 'five', 'currant', 'buns.', 'Flopsy,', 'Mopsy,', 'and', 'Cottontail,', 'who', 'were', 'good', 'little', 'bunnies,', 'went', 'down', 'the', 'lane', 'to', 'gather', 'blackberries:', 'But', 'Peter,', 'who', 'was', 'very', 'naughty,', 'ran', 'straight', 'away', 'to', 'Mr.', \"McGregor's\", 'garden,', 'and', 'squeezed', 'under', 'the', 'gate!', 'First', 'he', 'ate', 'some', 'lettuces', 'and', 'some', 'French', 'beans;', 'and', 'then', 'he', 'ate', 'some', 'radishes;', 'And', 'then,', 'feeling', 'rather', 'sick,', 'he', 'went', 'to', 'look', 'for', 'some', 'parsley.', 'But', 'round', 'the', 'end', 'of', 'a', 'cucumber', 'frame,', 'whom', 'should', 'he', 'meet', 'but', 'Mr.', 'McGregor!', 'Mr.', 'McGregor', 'was', 'on', 'his', 'hands', 'and', 'knees', 'planting', 'out', 'young', 'cabbages,', 'but', 'he', 'jumped', 'up', 'and', 'ran', 'after', 'Peter,', 'waving', 'a', 'rake', 'and', 'calling', 'out,', \"'Stop\", \"thief!'\", 'Peter', 'was', 'most', 'dreadfully', 'frightened;', 'he', 'rushed', 'all', 'over', 'the', 'garden,', 'for', 'he', 'had', 'forgotten', 'the', 'way', 'back', 'to', 'the', 'gate.', 'He', 'lost', 'one', 'of', 'his', 'shoes', 'among', 'the', 'cabbages,', 'and', 'the', 'other', 'shoe', 'amongst', 'the', 'potatoes.', 'After', 'losing', 'them,', 'he', 'ran', 'on', 'four', 'legs', 'and', 'went', 'faster,', 'so', 'that', 'I', 'think', 'he', 'might', 'have', 'got', 'away', 'altogether', 'if', 'he', 'had', 'not', 'unfortunately', 'run', 'into', 'a', 'gooseberry', 'net,', 'and', 'got', 'caught', 'by', 'the', 'large', 'buttons', 'on', 'his', 'jacket.', 'It', 'was', 'a', 'blue', 'jacket', 'with', 'brass', 'buttons,', 'quite', 'new.', 'Peter', 'gave', 'himself', 'up', 'for', 'lost,', 'and', 'shed', 'big', 'tears;', 'but', 'his', 'sobs', 'were', 'overheard', 'by', 'some', 'friendly', 'sparrows,', 'who', 'flew', 'to', 'him', 'in', 'great', 'excitement,', 'and', 'implored', 'him', 'to', 'exert', 'himself.', 'Mr.', 'McGregor', 'came', 'up', 'with', 'a', 'sieve,', 'which', 'he', 'intended', 'to', 'pop', 'upon', 'the', 'top', 'of', 'Peter;', 'but', 'Peter', 'wriggled', 'out', 'just', 'in', 'time,', 'leaving', 'his', 'jacket', 'behind', 'him.', 'And', 'rushed', 'into', 'the', 'tool-shed,', 'and', 'jumped', 'into', 'a', 'can.', 'It', 'would', 'have', 'been', 'a', 'beautiful', 'thing', 'to', 'hide', 'in,', 'if', 'it', 'had', 'not', 'had', 'so', 'much', 'water', 'in', 'it.', 'Mr.', 'McGregor', 'was', 'quite', 'sure', 'that', 'Peter', 'was', 'somewhere', 'in', 'the', 'tool-shed,', 'perhaps', 'hidden', 'underneath', 'a', 'flower-pot.', 'He', 'began', 'to', 'turn', 'them', 'over', 'carefully,', 'looking', 'under', 'each.', 'Presently', 'Peter', \"sneezed--'Kertyschoo!'\", 'Mr.', 'McGregor', 'was', 'after', 'him', 'in', 'no', 'time.', 'And', 'tried', 'to', 'put', 'his', 'foot', 'upon', 'Peter,', 'who', 'jumped', 'out', 'of', 'a', 'window,', 'upsetting', 'three', 'plants.', 'The', 'window', 'was', 'too', 'small', 'for', 'Mr.', 'McGregor,', 'and', 'he', 'was', 'tired', 'of', 'running', 'after', 'Peter.', 'He', 'went', 'back', 'to', 'his', 'work.', 'Peter', 'sat', 'down', 'to', 'rest;', 'he', 'was', 'out', 'of', 'breath', 'and', 'trembling', 'with', 'fright,', 'and', 'he', 'had', 'not', 'the', 'least', 'idea', 'which', 'way', 'to', 'go.', 'Also', 'he', 'was', 'very', 'damp', 'with', 'sitting', 'in', 'that', 'can.', 'After', 'a', 'time', 'he', 'began', 'to', 'wander', 'about,', 'going', 'lippity--lippity--not', 'very', 'fast,', 'and', 'looking', 'all', 'round.', 'He', 'found', 'a', 'door', 'in', 'a', 'wall;', 'but', 'it', 'was', 'locked,', 'and', 'there', 'was', 'no', 'room', 'for', 'a', 'fat', 'little', 'rabbit', 'to', 'squeeze', 'underneath.', 'An', 'old', 'mouse', 'was', 'running', 'in', 'and', 'out', 'over', 'the', 'stone', 'doorstep,', 'carrying', 'peas', 'and', 'beans', 'to', 'her', 'family', 'in', 'the', 'wood.', 'Peter', 'asked', 'her', 'the', 'way', 'to', 'the', 'gate,', 'but', 'she', 'had', 'such', 'a', 'large', 'pea', 'in', 'her', 'mouth', 'that', 'she', 'could', 'not', 'answer.', 'She', 'only', 'shook', 'her', 'head', 'at', 'him.', 'Peter', 'began', 'to', 'cry.', 'Then', 'he', 'tried', 'to', 'find', 'his', 'way', 'straight', 'across', 'the', 'garden,', 'but', 'he', 'became', 'more', 'and', 'more', 'puzzled.', 'Presently,', 'he', 'came', 'to', 'a', 'pond', 'where', 'Mr.', 'McGregor', 'filled', 'his', 'water-cans.', 'A', 'white', 'cat', 'was', 'staring', 'at', 'some', 'gold-fish,', 'she', 'sat', 'very,', 'very', 'still,', 'but', 'now', 'and', 'then', 'the', 'tip', 'of', 'her', 'tail', 'twitched', 'as', 'if', 'it', 'were', 'alive.', 'Peter', 'thought', 'it', 'best', 'to', 'go', 'away', 'without', 'speaking', 'to', 'her;', 'he', 'had', 'heard', 'about', 'cats', 'from', 'his', 'cousin,', 'little', 'Benjamin', 'Bunny.', 'He', 'went', 'back', 'towards', 'the', 'tool-shed,', 'but', 'suddenly,', 'quite', 'close', 'to', 'him,', 'he', 'heard', 'the', 'noise', 'of', 'a', 'hoe--scr-r-ritch,', 'scratch,', 'scratch,', 'scritch.', 'Peter', 'scuttered', 'underneath', 'the', 'bushes.', 'But', 'presently,', 'as', 'nothing', 'happened,', 'he', 'came', 'out,', 'and', 'climbed', 'upon', 'a', 'wheelbarrow', 'and', 'peeped', 'over.', 'The', 'first', 'thing', 'he', 'saw', 'was', 'Mr.', 'McGregor', 'hoeing', 'onions.', 'His', 'back', 'was', 'turned', 'towards', 'Peter,', 'and', 'beyond', 'him', 'was', 'the', 'gate!', 'Peter', 'got', 'down', 'very', 'quietly', 'off', 'the', 'wheelbarrow;', 'and', 'started', 'running', 'as', 'fast', 'as', 'he', 'could', 'go,', 'along', 'a', 'straight', 'walk', 'behind', 'some', 'black-currant', 'bushes.', 'Mr.', 'McGregor', 'caught', 'sight', 'of', 'him', 'at', 'the', 'corner,', 'but', 'Peter', 'did', 'not', 'care.', 'He', 'slipped', 'underneath', 'the', 'gate,', 'and', 'was', 'safe', 'at', 'last', 'in', 'the', 'wood', 'outside', 'the', 'garden.', 'Mr.', 'McGregor', 'hung', 'up', 'the', 'little', 'jacket', 'and', 'the', 'shoes', 'for', 'a', 'scare-crow', 'to', 'frighten', 'the', 'blackbirds.', 'Peter', 'never', 'stopped', 'running', 'or', 'looked', 'behind', 'him', 'till', 'he', 'got', 'home', 'to', 'the', 'big', 'fir-tree.', 'He', 'was', 'so', 'tired', 'that', 'he', 'flopped', 'down', 'upon', 'the', 'nice', 'soft', 'sand', 'on', 'the', 'floor', 'of', 'the', 'rabbit-hole', 'and', 'shut', 'his', 'eyes.', 'His', 'mother', 'was', 'busy', 'cooking;', 'she', 'wondered', 'what', 'he', 'had', 'done', 'with', 'his', 'clothes.', 'It', 'was', 'the', 'second', 'little', 'jacket', 'and', 'pair', 'of', 'shoes', 'that', 'Peter', 'had', 'lost', 'in', 'a', 'fortnight!', 'I', 'am', 'sorry', 'to', 'say', 'that', 'Peter', 'was', 'not', 'very', 'well', 'during', 'the', 'evening.', 'His', 'mother', 'put', 'him', 'to', 'bed,', 'and', 'made', 'some', 'camomile', 'tea;', 'and', 'she', 'gave', 'a', 'dose', 'of', 'it', 'to', 'Peter!', \"'One\", 'table-spoonful', 'to', 'be', 'taken', 'at', \"bed-time.'\", 'But', 'Flopsy,', 'Mopsy,', 'and', 'Cotton-tail', 'had', 'bread', 'and', 'milk', 'and', 'blackberries', 'for', 'supper.']\n"
     ]
    }
   ],
   "source": [
    "print(x)"
   ]
  },
  {
   "cell_type": "code",
   "execution_count": 20,
   "metadata": {},
   "outputs": [
    {
     "name": "stdout",
     "output_type": "stream",
     "text": [
      "['once', 'upon', 'a', 'time', 'there', 'were', 'four', 'little', 'rabbits,', 'and', 'their', 'names', 'were--', 'flopsy,', 'mopsy,', 'cotton-tail,', 'and', 'peter.', 'they', 'lived', 'with', 'their', 'mother', 'in', 'a', 'sand-bank,', 'underneath', 'the', 'root', 'of', 'a', 'very', 'big', 'fir-tree.', \"'now\", 'my', \"dears,'\", 'said', 'old', 'mrs.', 'rabbit', 'one', 'morning,', \"'you\", 'may', 'go', 'into', 'the', 'fields', 'or', 'down', 'the', 'lane,', 'but', \"don't\", 'go', 'into', 'mr.', \"mcgregor's\", 'garden:', 'your', 'father', 'had', 'an', 'accident', 'there;', 'he', 'was', 'put', 'in', 'a', 'pie', 'by', 'mrs.', \"mcgregor.'\", \"'now\", 'run', 'along,', 'and', \"don't\", 'get', 'into', 'mischief.', 'i', 'am', 'going', \"out.'\", 'then', 'old', 'mrs.', 'rabbit', 'took', 'a', 'basket', 'and', 'her', 'umbrella,', 'and', 'went', 'through', 'the', 'wood', 'to', 'the', \"baker's.\", 'she', 'bought', 'a', 'loaf', 'of', 'brown', 'bread', 'and', 'five', 'currant', 'buns.', 'flopsy,', 'mopsy,', 'and', 'cottontail,', 'who', 'were', 'good', 'little', 'bunnies,', 'went', 'down', 'the', 'lane', 'to', 'gather', 'blackberries:', 'but', 'peter,', 'who', 'was', 'very', 'naughty,', 'ran', 'straight', 'away', 'to', 'mr.', \"mcgregor's\", 'garden,', 'and', 'squeezed', 'under', 'the', 'gate!', 'first', 'he', 'ate', 'some', 'lettuces', 'and', 'some', 'french', 'beans;', 'and', 'then', 'he', 'ate', 'some', 'radishes;', 'and', 'then,', 'feeling', 'rather', 'sick,', 'he', 'went', 'to', 'look', 'for', 'some', 'parsley.', 'but', 'round', 'the', 'end', 'of', 'a', 'cucumber', 'frame,', 'whom', 'should', 'he', 'meet', 'but', 'mr.', 'mcgregor!', 'mr.', 'mcgregor', 'was', 'on', 'his', 'hands', 'and', 'knees', 'planting', 'out', 'young', 'cabbages,', 'but', 'he', 'jumped', 'up', 'and', 'ran', 'after', 'peter,', 'waving', 'a', 'rake', 'and', 'calling', 'out,', \"'stop\", \"thief!'\", 'peter', 'was', 'most', 'dreadfully', 'frightened;', 'he', 'rushed', 'all', 'over', 'the', 'garden,', 'for', 'he', 'had', 'forgotten', 'the', 'way', 'back', 'to', 'the', 'gate.', 'he', 'lost', 'one', 'of', 'his', 'shoes', 'among', 'the', 'cabbages,', 'and', 'the', 'other', 'shoe', 'amongst', 'the', 'potatoes.', 'after', 'losing', 'them,', 'he', 'ran', 'on', 'four', 'legs', 'and', 'went', 'faster,', 'so', 'that', 'i', 'think', 'he', 'might', 'have', 'got', 'away', 'altogether', 'if', 'he', 'had', 'not', 'unfortunately', 'run', 'into', 'a', 'gooseberry', 'net,', 'and', 'got', 'caught', 'by', 'the', 'large', 'buttons', 'on', 'his', 'jacket.', 'it', 'was', 'a', 'blue', 'jacket', 'with', 'brass', 'buttons,', 'quite', 'new.', 'peter', 'gave', 'himself', 'up', 'for', 'lost,', 'and', 'shed', 'big', 'tears;', 'but', 'his', 'sobs', 'were', 'overheard', 'by', 'some', 'friendly', 'sparrows,', 'who', 'flew', 'to', 'him', 'in', 'great', 'excitement,', 'and', 'implored', 'him', 'to', 'exert', 'himself.', 'mr.', 'mcgregor', 'came', 'up', 'with', 'a', 'sieve,', 'which', 'he', 'intended', 'to', 'pop', 'upon', 'the', 'top', 'of', 'peter;', 'but', 'peter', 'wriggled', 'out', 'just', 'in', 'time,', 'leaving', 'his', 'jacket', 'behind', 'him.', 'and', 'rushed', 'into', 'the', 'tool-shed,', 'and', 'jumped', 'into', 'a', 'can.', 'it', 'would', 'have', 'been', 'a', 'beautiful', 'thing', 'to', 'hide', 'in,', 'if', 'it', 'had', 'not', 'had', 'so', 'much', 'water', 'in', 'it.', 'mr.', 'mcgregor', 'was', 'quite', 'sure', 'that', 'peter', 'was', 'somewhere', 'in', 'the', 'tool-shed,', 'perhaps', 'hidden', 'underneath', 'a', 'flower-pot.', 'he', 'began', 'to', 'turn', 'them', 'over', 'carefully,', 'looking', 'under', 'each.', 'presently', 'peter', \"sneezed--'kertyschoo!'\", 'mr.', 'mcgregor', 'was', 'after', 'him', 'in', 'no', 'time.', 'and', 'tried', 'to', 'put', 'his', 'foot', 'upon', 'peter,', 'who', 'jumped', 'out', 'of', 'a', 'window,', 'upsetting', 'three', 'plants.', 'the', 'window', 'was', 'too', 'small', 'for', 'mr.', 'mcgregor,', 'and', 'he', 'was', 'tired', 'of', 'running', 'after', 'peter.', 'he', 'went', 'back', 'to', 'his', 'work.', 'peter', 'sat', 'down', 'to', 'rest;', 'he', 'was', 'out', 'of', 'breath', 'and', 'trembling', 'with', 'fright,', 'and', 'he', 'had', 'not', 'the', 'least', 'idea', 'which', 'way', 'to', 'go.', 'also', 'he', 'was', 'very', 'damp', 'with', 'sitting', 'in', 'that', 'can.', 'after', 'a', 'time', 'he', 'began', 'to', 'wander', 'about,', 'going', 'lippity--lippity--not', 'very', 'fast,', 'and', 'looking', 'all', 'round.', 'he', 'found', 'a', 'door', 'in', 'a', 'wall;', 'but', 'it', 'was', 'locked,', 'and', 'there', 'was', 'no', 'room', 'for', 'a', 'fat', 'little', 'rabbit', 'to', 'squeeze', 'underneath.', 'an', 'old', 'mouse', 'was', 'running', 'in', 'and', 'out', 'over', 'the', 'stone', 'doorstep,', 'carrying', 'peas', 'and', 'beans', 'to', 'her', 'family', 'in', 'the', 'wood.', 'peter', 'asked', 'her', 'the', 'way', 'to', 'the', 'gate,', 'but', 'she', 'had', 'such', 'a', 'large', 'pea', 'in', 'her', 'mouth', 'that', 'she', 'could', 'not', 'answer.', 'she', 'only', 'shook', 'her', 'head', 'at', 'him.', 'peter', 'began', 'to', 'cry.', 'then', 'he', 'tried', 'to', 'find', 'his', 'way', 'straight', 'across', 'the', 'garden,', 'but', 'he', 'became', 'more', 'and', 'more', 'puzzled.', 'presently,', 'he', 'came', 'to', 'a', 'pond', 'where', 'mr.', 'mcgregor', 'filled', 'his', 'water-cans.', 'a', 'white', 'cat', 'was', 'staring', 'at', 'some', 'gold-fish,', 'she', 'sat', 'very,', 'very', 'still,', 'but', 'now', 'and', 'then', 'the', 'tip', 'of', 'her', 'tail', 'twitched', 'as', 'if', 'it', 'were', 'alive.', 'peter', 'thought', 'it', 'best', 'to', 'go', 'away', 'without', 'speaking', 'to', 'her;', 'he', 'had', 'heard', 'about', 'cats', 'from', 'his', 'cousin,', 'little', 'benjamin', 'bunny.', 'he', 'went', 'back', 'towards', 'the', 'tool-shed,', 'but', 'suddenly,', 'quite', 'close', 'to', 'him,', 'he', 'heard', 'the', 'noise', 'of', 'a', 'hoe--scr-r-ritch,', 'scratch,', 'scratch,', 'scritch.', 'peter', 'scuttered', 'underneath', 'the', 'bushes.', 'but', 'presently,', 'as', 'nothing', 'happened,', 'he', 'came', 'out,', 'and', 'climbed', 'upon', 'a', 'wheelbarrow', 'and', 'peeped', 'over.', 'the', 'first', 'thing', 'he', 'saw', 'was', 'mr.', 'mcgregor', 'hoeing', 'onions.', 'his', 'back', 'was', 'turned', 'towards', 'peter,', 'and', 'beyond', 'him', 'was', 'the', 'gate!', 'peter', 'got', 'down', 'very', 'quietly', 'off', 'the', 'wheelbarrow;', 'and', 'started', 'running', 'as', 'fast', 'as', 'he', 'could', 'go,', 'along', 'a', 'straight', 'walk', 'behind', 'some', 'black-currant', 'bushes.', 'mr.', 'mcgregor', 'caught', 'sight', 'of', 'him', 'at', 'the', 'corner,', 'but', 'peter', 'did', 'not', 'care.', 'he', 'slipped', 'underneath', 'the', 'gate,', 'and', 'was', 'safe', 'at', 'last', 'in', 'the', 'wood', 'outside', 'the', 'garden.', 'mr.', 'mcgregor', 'hung', 'up', 'the', 'little', 'jacket', 'and', 'the', 'shoes', 'for', 'a', 'scare-crow', 'to', 'frighten', 'the', 'blackbirds.', 'peter', 'never', 'stopped', 'running', 'or', 'looked', 'behind', 'him', 'till', 'he', 'got', 'home', 'to', 'the', 'big', 'fir-tree.', 'he', 'was', 'so', 'tired', 'that', 'he', 'flopped', 'down', 'upon', 'the', 'nice', 'soft', 'sand', 'on', 'the', 'floor', 'of', 'the', 'rabbit-hole', 'and', 'shut', 'his', 'eyes.', 'his', 'mother', 'was', 'busy', 'cooking;', 'she', 'wondered', 'what', 'he', 'had', 'done', 'with', 'his', 'clothes.', 'it', 'was', 'the', 'second', 'little', 'jacket', 'and', 'pair', 'of', 'shoes', 'that', 'peter', 'had', 'lost', 'in', 'a', 'fortnight!', 'i', 'am', 'sorry', 'to', 'say', 'that', 'peter', 'was', 'not', 'very', 'well', 'during', 'the', 'evening.', 'his', 'mother', 'put', 'him', 'to', 'bed,', 'and', 'made', 'some', 'camomile', 'tea;', 'and', 'she', 'gave', 'a', 'dose', 'of', 'it', 'to', 'peter!', \"'one\", 'table-spoonful', 'to', 'be', 'taken', 'at', \"bed-time.'\", 'but', 'flopsy,', 'mopsy,', 'and', 'cotton-tail', 'had', 'bread', 'and', 'milk', 'and', 'blackberries', 'for', 'supper.']\n"
     ]
    }
   ],
   "source": [
    "text_lowercase = [item.lower() for item in x]\n",
    "print(text_lowercase)"
   ]
  },
  {
   "cell_type": "code",
   "execution_count": 13,
   "metadata": {},
   "outputs": [
    {
     "name": "stdout",
     "output_type": "stream",
     "text": [
      "['once', 'upon', 'a', 'time', 'there', 'were', 'four', 'little', 'rabbits', 'and', 'their', 'names', 'were', 'flopsy', 'mopsy', 'cottontail', 'and', 'peter', 'they', 'lived', 'with', 'their', 'mother', 'in', 'a', 'sandbank', 'underneath', 'the', 'root', 'of', 'a', 'very', 'big', 'firtree', 'now', 'my', 'dears', 'said', 'old', 'mrs', 'rabbit', 'one', 'morning', 'you', 'may', 'go', 'into', 'the', 'fields', 'or', 'down', 'the', 'lane', 'but', 'dont', 'go', 'into', 'mr', 'mcgregors', 'garden', 'your', 'father', 'had', 'an', 'accident', 'there', 'he', 'was', 'put', 'in', 'a', 'pie', 'by', 'mrs', 'mcgregor', 'now', 'run', 'along', 'and', 'dont', 'get', 'into', 'mischief', 'i', 'am', 'going', 'out', 'then', 'old', 'mrs', 'rabbit', 'took', 'a', 'basket', 'and', 'her', 'umbrella', 'and', 'went', 'through', 'the', 'wood', 'to', 'the', 'bakers', 'she', 'bought', 'a', 'loaf', 'of', 'brown', 'bread', 'and', 'five', 'currant', 'buns', 'flopsy', 'mopsy', 'and', 'cottontail', 'who', 'were', 'good', 'little', 'bunnies', 'went', 'down', 'the', 'lane', 'to', 'gather', 'blackberries', 'but', 'peter', 'who', 'was', 'very', 'naughty', 'ran', 'straight', 'away', 'to', 'mr', 'mcgregors', 'garden', 'and', 'squeezed', 'under', 'the', 'gate', 'first', 'he', 'ate', 'some', 'lettuces', 'and', 'some', 'french', 'beans', 'and', 'then', 'he', 'ate', 'some', 'radishes', 'and', 'then', 'feeling', 'rather', 'sick', 'he', 'went', 'to', 'look', 'for', 'some', 'parsley', 'but', 'round', 'the', 'end', 'of', 'a', 'cucumber', 'frame', 'whom', 'should', 'he', 'meet', 'but', 'mr', 'mcgregor', 'mr', 'mcgregor', 'was', 'on', 'his', 'hands', 'and', 'knees', 'planting', 'out', 'young', 'cabbages', 'but', 'he', 'jumped', 'up', 'and', 'ran', 'after', 'peter', 'waving', 'a', 'rake', 'and', 'calling', 'out', 'stop', 'thief', 'peter', 'was', 'most', 'dreadfully', 'frightened', 'he', 'rushed', 'all', 'over', 'the', 'garden', 'for', 'he', 'had', 'forgotten', 'the', 'way', 'back', 'to', 'the', 'gate', 'he', 'lost', 'one', 'of', 'his', 'shoes', 'among', 'the', 'cabbages', 'and', 'the', 'other', 'shoe', 'amongst', 'the', 'potatoes', 'after', 'losing', 'them', 'he', 'ran', 'on', 'four', 'legs', 'and', 'went', 'faster', 'so', 'that', 'i', 'think', 'he', 'might', 'have', 'got', 'away', 'altogether', 'if', 'he', 'had', 'not', 'unfortunately', 'run', 'into', 'a', 'gooseberry', 'net', 'and', 'got', 'caught', 'by', 'the', 'large', 'buttons', 'on', 'his', 'jacket', 'it', 'was', 'a', 'blue', 'jacket', 'with', 'brass', 'buttons', 'quite', 'new', 'peter', 'gave', 'himself', 'up', 'for', 'lost', 'and', 'shed', 'big', 'tears', 'but', 'his', 'sobs', 'were', 'overheard', 'by', 'some', 'friendly', 'sparrows', 'who', 'flew', 'to', 'him', 'in', 'great', 'excitement', 'and', 'implored', 'him', 'to', 'exert', 'himself', 'mr', 'mcgregor', 'came', 'up', 'with', 'a', 'sieve', 'which', 'he', 'intended', 'to', 'pop', 'upon', 'the', 'top', 'of', 'peter', 'but', 'peter', 'wriggled', 'out', 'just', 'in', 'time', 'leaving', 'his', 'jacket', 'behind', 'him', 'and', 'rushed', 'into', 'the', 'toolshed', 'and', 'jumped', 'into', 'a', 'can', 'it', 'would', 'have', 'been', 'a', 'beautiful', 'thing', 'to', 'hide', 'in', 'if', 'it', 'had', 'not', 'had', 'so', 'much', 'water', 'in', 'it', 'mr', 'mcgregor', 'was', 'quite', 'sure', 'that', 'peter', 'was', 'somewhere', 'in', 'the', 'toolshed', 'perhaps', 'hidden', 'underneath', 'a', 'flowerpot', 'he', 'began', 'to', 'turn', 'them', 'over', 'carefully', 'looking', 'under', 'each', 'presently', 'peter', 'sneezedkertyschoo', 'mr', 'mcgregor', 'was', 'after', 'him', 'in', 'no', 'time', 'and', 'tried', 'to', 'put', 'his', 'foot', 'upon', 'peter', 'who', 'jumped', 'out', 'of', 'a', 'window', 'upsetting', 'three', 'plants', 'the', 'window', 'was', 'too', 'small', 'for', 'mr', 'mcgregor', 'and', 'he', 'was', 'tired', 'of', 'running', 'after', 'peter', 'he', 'went', 'back', 'to', 'his', 'work', 'peter', 'sat', 'down', 'to', 'rest', 'he', 'was', 'out', 'of', 'breath', 'and', 'trembling', 'with', 'fright', 'and', 'he', 'had', 'not', 'the', 'least', 'idea', 'which', 'way', 'to', 'go', 'also', 'he', 'was', 'very', 'damp', 'with', 'sitting', 'in', 'that', 'can', 'after', 'a', 'time', 'he', 'began', 'to', 'wander', 'about', 'going', 'lippitylippitynot', 'very', 'fast', 'and', 'looking', 'all', 'round', 'he', 'found', 'a', 'door', 'in', 'a', 'wall', 'but', 'it', 'was', 'locked', 'and', 'there', 'was', 'no', 'room', 'for', 'a', 'fat', 'little', 'rabbit', 'to', 'squeeze', 'underneath', 'an', 'old', 'mouse', 'was', 'running', 'in', 'and', 'out', 'over', 'the', 'stone', 'doorstep', 'carrying', 'peas', 'and', 'beans', 'to', 'her', 'family', 'in', 'the', 'wood', 'peter', 'asked', 'her', 'the', 'way', 'to', 'the', 'gate', 'but', 'she', 'had', 'such', 'a', 'large', 'pea', 'in', 'her', 'mouth', 'that', 'she', 'could', 'not', 'answer', 'she', 'only', 'shook', 'her', 'head', 'at', 'him', 'peter', 'began', 'to', 'cry', 'then', 'he', 'tried', 'to', 'find', 'his', 'way', 'straight', 'across', 'the', 'garden', 'but', 'he', 'became', 'more', 'and', 'more', 'puzzled', 'presently', 'he', 'came', 'to', 'a', 'pond', 'where', 'mr', 'mcgregor', 'filled', 'his', 'watercans', 'a', 'white', 'cat', 'was', 'staring', 'at', 'some', 'goldfish', 'she', 'sat', 'very', 'very', 'still', 'but', 'now', 'and', 'then', 'the', 'tip', 'of', 'her', 'tail', 'twitched', 'as', 'if', 'it', 'were', 'alive', 'peter', 'thought', 'it', 'best', 'to', 'go', 'away', 'without', 'speaking', 'to', 'her', 'he', 'had', 'heard', 'about', 'cats', 'from', 'his', 'cousin', 'little', 'benjamin', 'bunny', 'he', 'went', 'back', 'towards', 'the', 'toolshed', 'but', 'suddenly', 'quite', 'close', 'to', 'him', 'he', 'heard', 'the', 'noise', 'of', 'a', 'hoescrrritch', 'scratch', 'scratch', 'scritch', 'peter', 'scuttered', 'underneath', 'the', 'bushes', 'but', 'presently', 'as', 'nothing', 'happened', 'he', 'came', 'out', 'and', 'climbed', 'upon', 'a', 'wheelbarrow', 'and', 'peeped', 'over', 'the', 'first', 'thing', 'he', 'saw', 'was', 'mr', 'mcgregor', 'hoeing', 'onions', 'his', 'back', 'was', 'turned', 'towards', 'peter', 'and', 'beyond', 'him', 'was', 'the', 'gate', 'peter', 'got', 'down', 'very', 'quietly', 'off', 'the', 'wheelbarrow', 'and', 'started', 'running', 'as', 'fast', 'as', 'he', 'could', 'go', 'along', 'a', 'straight', 'walk', 'behind', 'some', 'blackcurrant', 'bushes', 'mr', 'mcgregor', 'caught', 'sight', 'of', 'him', 'at', 'the', 'corner', 'but', 'peter', 'did', 'not', 'care', 'he', 'slipped', 'underneath', 'the', 'gate', 'and', 'was', 'safe', 'at', 'last', 'in', 'the', 'wood', 'outside', 'the', 'garden', 'mr', 'mcgregor', 'hung', 'up', 'the', 'little', 'jacket', 'and', 'the', 'shoes', 'for', 'a', 'scarecrow', 'to', 'frighten', 'the', 'blackbirds', 'peter', 'never', 'stopped', 'running', 'or', 'looked', 'behind', 'him', 'till', 'he', 'got', 'home', 'to', 'the', 'big', 'firtree', 'he', 'was', 'so', 'tired', 'that', 'he', 'flopped', 'down', 'upon', 'the', 'nice', 'soft', 'sand', 'on', 'the', 'floor', 'of', 'the', 'rabbithole', 'and', 'shut', 'his', 'eyes', 'his', 'mother', 'was', 'busy', 'cooking', 'she', 'wondered', 'what', 'he', 'had', 'done', 'with', 'his', 'clothes', 'it', 'was', 'the', 'second', 'little', 'jacket', 'and', 'pair', 'of', 'shoes', 'that', 'peter', 'had', 'lost', 'in', 'a', 'fortnight', 'i', 'am', 'sorry', 'to', 'say', 'that', 'peter', 'was', 'not', 'very', 'well', 'during', 'the', 'evening', 'his', 'mother', 'put', 'him', 'to', 'bed', 'and', 'made', 'some', 'camomile', 'tea', 'and', 'she', 'gave', 'a', 'dose', 'of', 'it', 'to', 'peter', 'one', 'tablespoonful', 'to', 'be', 'taken', 'at', 'bedtime', 'but', 'flopsy', 'mopsy', 'and', 'cottontail', 'had', 'bread', 'and', 'milk', 'and', 'blackberries', 'for', 'supper']\n"
     ]
    }
   ],
   "source": [
    "# Using loop + punctuation string\n",
    "\n",
    "for i in range(len(text_lowercase)):\n",
    "    text_lowercase[i] = re.sub('[^a-zA-Z0-9]+', '', text_lowercase[i])\n",
    "\n",
    "print(text_lowercase)"
   ]
  },
  {
   "cell_type": "code",
   "execution_count": 14,
   "metadata": {},
   "outputs": [],
   "source": [
    "\n",
    "words = Counter(text_lowercase)\n",
    "top_10 = words.most_common(10)"
   ]
  },
  {
   "cell_type": "code",
   "execution_count": 15,
   "metadata": {},
   "outputs": [
    {
     "name": "stdout",
     "output_type": "stream",
     "text": [
      "Text has been saved to task_3_files/output.txt\n"
     ]
    }
   ],
   "source": [
    "filename = \"task_3_files/output.txt\"\n",
    "\n",
    "# Open the file in write mode and save the text\n",
    "with open(filename, \"w\") as file:\n",
    "    file.write(str(top_10))\n",
    "\n",
    "print(f\"Text has been saved to {filename}\")"
   ]
  },
  {
   "cell_type": "markdown",
   "metadata": {},
   "source": [
    "### Task 4\n",
    "Try to edit the story by replacing some of the most popular words. Save it to a new file and publish on your GitHub. Share the story in your groups."
   ]
  },
  {
   "cell_type": "code",
   "execution_count": 26,
   "metadata": {},
   "outputs": [],
   "source": [
    "replace_dict = {\"the\": \"hello\", \"and\": \"value\", \"to\": \"question\"}\n",
    "\n",
    "lines = text.readlines()\n",
    "\n",
    "new_text = text\n",
    "\n",
    "for key, value in replace_dict.items():\n",
    "    for line in lines:\n",
    "        if key in line:\n",
    "            new_text = new_text.replace(key, value)\n"
   ]
  },
  {
   "cell_type": "code",
   "execution_count": 27,
   "metadata": {},
   "outputs": [
    {
     "name": "stdout",
     "output_type": "stream",
     "text": [
      "\n"
     ]
    }
   ],
   "source": [
    "print(new_text.read())"
   ]
  }
 ],
 "metadata": {
  "kernelspec": {
   "display_name": "base",
   "language": "python",
   "name": "python3"
  },
  "language_info": {
   "codemirror_mode": {
    "name": "ipython",
    "version": 3
   },
   "file_extension": ".py",
   "mimetype": "text/x-python",
   "name": "python",
   "nbconvert_exporter": "python",
   "pygments_lexer": "ipython3",
   "version": "3.12.2"
  }
 },
 "nbformat": 4,
 "nbformat_minor": 2
}
