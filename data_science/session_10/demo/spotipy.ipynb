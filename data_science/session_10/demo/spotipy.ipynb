{
 "cells": [
  {
   "cell_type": "markdown",
   "metadata": {},
   "source": [
    "# Spotipy\n",
    "\n",
    "Spotipy is a dedicated library for interacting with Spotify's own API. \n",
    "\n",
    "It was designed for easier integration with other applications but we can use it for data analysis!\n",
    "\n",
    "You will need to setup a free spotify account to generate an API key to access the spotify API. \n",
    "\n",
    "Follow steps <a href=\"https://developer.spotify.com/documentation/web-api\">here</a> to generate an API Key.\n",
    "\n",
    "<a href=\"https://spotipy.readthedocs.io/en/2.24.0/\">SpotiPy Documentation</a>\n"
   ]
  },
  {
   "cell_type": "code",
   "execution_count": null,
   "metadata": {},
   "outputs": [],
   "source": [
    "# For this to work, you need to have the spotipy library installed.\n",
    "! pip install spotipy"
   ]
  },
  {
   "cell_type": "markdown",
   "metadata": {},
   "source": [
    "## Importing and Authorising\n",
    "To run this you'll need your client ID and your secret ID which can be found in your spotify developer dashboard. \n",
    "\n",
    "Either paste your codes as strings directly into variables or make an api_keys.py script with variables names the same as the imports. "
   ]
  },
  {
   "cell_type": "code",
   "execution_count": null,
   "metadata": {},
   "outputs": [],
   "source": [
    "import spotipy\n",
    "from spotipy.oauth2 import SpotifyClientCredentials\n",
    "from api_keys import SPOTIPY_CLIENT_ID, SPOTIPY_CLIENT_SECRET\n",
    "\n",
    "cid = SPOTIPY_CLIENT_ID #ADD YOUR CLIENT ID HERE\n",
    "secret = SPOTIPY_CLIENT_SECRET #ADD YOUR SECRET ID HERE\n",
    "\n",
    "client_credentials_manager = SpotifyClientCredentials(client_id=cid, client_secret=secret)\n",
    "sp = spotipy.Spotify(client_credentials_manager = client_credentials_manager)"
   ]
  },
  {
   "cell_type": "markdown",
   "metadata": {},
   "source": [
    "## Loading Data\n",
    "This code loops through the top 1000 songs from the year 2018 and stores the data in separate lists."
   ]
  },
  {
   "cell_type": "code",
   "execution_count": null,
   "metadata": {},
   "outputs": [],
   "source": [
    "artist_name = []\n",
    "track_name = []\n",
    "popularity = []\n",
    "track_id = []\n",
    "images = []\n",
    "\n",
    "for i in range(0, 1000, 50):\n",
    "    track_results = sp.search(q='year:2023', type='track', limit=50, offset=i) # hover over the search function to see the parameters, notice that we are searching for tracks in the year 2023\n",
    "    for t in track_results['tracks']['items']:\n",
    "        artist_name.append(t['artists'][0]['name'])\n",
    "        track_name.append(t['name'])\n",
    "        track_id.append(t['id'])\n",
    "        popularity.append(t['popularity'])\n",
    "        images.append(t['album']['images'][0]['url'])\n",
    "        \n",
    "# lets sort the data in a dictionary \n",
    "popular_tracks_dict = {'artist_name' : artist_name, 'track_name' : track_name, 'track_id' : track_id, 'popularity' : popularity, 'images' : images}"
   ]
  },
  {
   "cell_type": "markdown",
   "metadata": {},
   "source": [
    "Let's print the data we've collected from the spotify api"
   ]
  },
  {
   "cell_type": "code",
   "execution_count": null,
   "metadata": {},
   "outputs": [],
   "source": [
    "print(popular_tracks_dict) \n",
    "# As we can see, there is a lot of data here. \n",
    "# It's difficult to analyse it in this format. \n",
    "# Let's convert it to a pandas dataframe..."
   ]
  },
  {
   "cell_type": "markdown",
   "metadata": {},
   "source": [
    "## Loading Data into a DataFrame for Analysis\n",
    "With the lists we created by calling the spotify API, we can now generate a dataframe using pandas.\n",
    "\n",
    "Here we create our data frame using the lists we created in the above cell. We can see that this has a shape of 1000, 5. This means there are 1000 rows and 5 columns.\n",
    "\n",
    "Then we sort the dataframe by popularity "
   ]
  },
  {
   "cell_type": "code",
   "execution_count": null,
   "metadata": {},
   "outputs": [],
   "source": [
    "import pandas as pd\n",
    "track_dataframe = pd.DataFrame({'artist_name' : artist_name, 'track_name' : track_name, 'track_id' : track_id, 'popularity' : popularity, 'images' : images})\n",
    "print(track_dataframe.shape) # this should print (1000, 5) if you have 1000 rows\n",
    "track_dataframe.head() # this will print the first 5 rows of"
   ]
  },
  {
   "cell_type": "code",
   "execution_count": null,
   "metadata": {},
   "outputs": [],
   "source": [
    "# Lets sort the dataframe by popularity with most popular songs at the top\n",
    "df_sorted = track_dataframe.sort_values(by='popularity', ascending=False) # sort the dataframe by popularity in descending order\n",
    "df_sorted_indexed = df_sorted.reset_index(drop=True) # this will reset the index of the dataframe and remove the old index\n",
    "df_sorted_indexed.head(20)    # this will print the first 20 rows of he dataframe"
   ]
  },
  {
   "cell_type": "markdown",
   "metadata": {},
   "source": [
    "## Quick example of what we can do with it...\n",
    "\n",
    "We already have the the most popular tracks and have successfully organised the data in decending order, but some artist's have many popular songs. \n",
    "\n",
    "You could argue that the most successful artists would have more than one track in spotify's top 1000. So let's find which artist was the most successful on spotify by number of tracks.\n",
    "\n",
    "**Remember:** This is all using pandas and matplotlib which we have been using in previous classes!"
   ]
  },
  {
   "cell_type": "code",
   "execution_count": null,
   "metadata": {},
   "outputs": [],
   "source": [
    "artist_counts = track_dataframe['artist_name'].value_counts() # this will count the number of times each artist appears in the dataframe\n",
    "duplicated_artists = artist_counts[artist_counts > 1]  # this will filter out the artists that appear more than once\n",
    "#duplicated_artists"
   ]
  },
  {
   "cell_type": "code",
   "execution_count": null,
   "metadata": {},
   "outputs": [],
   "source": [
    "duplicated_artists.describe() # Before we plot the data, lets see the summary statistics of the data.\n",
    "\n",
    "# We can see that there are 163 artists that appear more than once.\n",
    "# the mean number of tracks for these artists is 4.3\n",
    "# One artist has 36 tracks! Bet's on who that is? 🪡 🕊️"
   ]
  },
  {
   "cell_type": "code",
   "execution_count": null,
   "metadata": {},
   "outputs": [],
   "source": [
    "most_successful_artists = duplicated_artists.head(10) # this will get the top 10 most successful artists by number of songs in top 1000 in 2023\n",
    "\n",
    "import matplotlib.pyplot as plt\n",
    "\n",
    "# Plotting the artist counts\n",
    "plt.figure(figsize=(12, 6))\n",
    "plt.bar(most_successful_artists.index, most_successful_artists.values)\n",
    "plt.xlabel('Artist')\n",
    "plt.ylabel('Count')\n",
    "plt.title('Number of Songs by Artist')\n",
    "plt.xticks(rotation=90)\n",
    "plt.show()\n",
    "\n",
    "# Can you guess which artist has the most songs in the top 1000 in 2023?"
   ]
  },
  {
   "cell_type": "markdown",
   "metadata": {},
   "source": [
    "## More data we can collect\n",
    "\n",
    "Spotify has loads of data points that it uses to fuel it's algorithm and select songs and playlists for you based on data it has about you... \n",
    "\n",
    "We won't get into the ethics of this now but let's try and view some of this data. "
   ]
  },
  {
   "cell_type": "code",
   "execution_count": null,
   "metadata": {},
   "outputs": [],
   "source": [
    "# Let's take the most popular track that we found earlier and get the audio features for it\n",
    "most_popular_track = df_sorted_indexed.iloc[0]\n",
    "most_popular_track "
   ]
  },
  {
   "cell_type": "markdown",
   "metadata": {},
   "source": [
    "Now let's use spotify's audio_features function to view some data they have synthesised from analysing the track..."
   ]
  },
  {
   "cell_type": "code",
   "execution_count": null,
   "metadata": {},
   "outputs": [],
   "source": [
    "# get the track id of the most popular track\n",
    "most_popular_track_id = most_popular_track['track_id'] \n",
    "# get the audio analysis data of the most popular track\n",
    "track_audio_features = sp.audio_features(most_popular_track_id)\n",
    "track_audio_features"
   ]
  }
 ],
 "metadata": {
  "kernelspec": {
   "display_name": "venv",
   "language": "python",
   "name": "python3"
  },
  "language_info": {
   "codemirror_mode": {
    "name": "ipython",
    "version": 3
   },
   "file_extension": ".py",
   "mimetype": "text/x-python",
   "name": "python",
   "nbconvert_exporter": "python",
   "pygments_lexer": "ipython3",
   "version": "3.11.9"
  }
 },
 "nbformat": 4,
 "nbformat_minor": 2
}
