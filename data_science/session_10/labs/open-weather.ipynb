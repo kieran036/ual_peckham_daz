{
 "cells": [
  {
   "cell_type": "markdown",
   "metadata": {},
   "source": [
    "# Lab Exercise: Using OpenWeather API to Collect and Export Data\n",
    "\n",
    "## Objective\n",
    "- Fetch weather data for multiple cities using the OpenWeather API.\n",
    "- Process and clean the retrieved data.\n",
    "- Store the data in a pandas DataFrame.\n",
    "- Export the data to a CSV file.\n",
    "- Plot the data\n",
    "\n",
    "## 1: Sign Up for OpenWeather API and Obtain an API Key\n",
    "\n",
    "1. Go to the [OpenWeather website](https://home.openweathermap.org/users/sign_up) and sign up for an account.\n",
    "2. After logging in, navigate to the API Keys section of your account dashboard.\n",
    "3. Copy your unique API key, which will be used to authenticate your requests.\n",
    "\n",
    "## 2: Install Necessary Python Libraries\n",
    "\n",
    "1. Install the required Python libraries if they are not already installed. You will need:\n",
    "   - `requests` for making HTTP requests.\n",
    "   - `pandas` for data manipulation and analysis."
   ]
  },
  {
   "cell_type": "code",
   "execution_count": null,
   "metadata": {},
   "outputs": [],
   "source": [
    "! pip install..."
   ]
  },
  {
   "cell_type": "code",
   "execution_count": null,
   "metadata": {},
   "outputs": [],
   "source": [
    "import ... #library for making HTTP requests\n",
    "import ... #data manipulation library\n",
    "import ... #graph ploting library"
   ]
  },
  {
   "cell_type": "markdown",
   "metadata": {},
   "source": [
    "## 4: Get the base URL and define your endpoints \n",
    "\n",
    "See the class example for reference and also refer to the python requests library docs for examples.\n",
    "\n",
    "***Hint*** search for python requests params, this way you can make a request without having to know the exact HTTP request syntax! \n",
    "\n",
    "Get data for London - this will be your query. \n",
    "\n",
    "Remember you need your API key!\n",
    "\n",
    "If you get a 400 code there is something wrong with your request, or your API key isn't working yet.\n",
    "If you get 200 it worked! "
   ]
  },
  {
   "cell_type": "code",
   "execution_count": null,
   "metadata": {},
   "outputs": [],
   "source": [
    "\n",
    "\n",
    "response = # Make a request to the API\n",
    "\n",
    "response.status_code"
   ]
  },
  {
   "cell_type": "markdown",
   "metadata": {},
   "source": [
    "## Make the request and store it in a variable in JSON format\n",
    "\n",
    "Then print it to see what it looks like "
   ]
  },
  {
   "cell_type": "code",
   "execution_count": null,
   "metadata": {},
   "outputs": [],
   "source": [
    "response_json = ...\n",
    "\n",
    "response_json"
   ]
  },
  {
   "cell_type": "markdown",
   "metadata": {},
   "source": [
    "## 5: Target specific data\n",
    "\n",
    "So you should now have weather for London.\n",
    "\n",
    "Analyse the JSON data and get the city name, temperature, humidity, weather description, and windspeed and store them in their own variables."
   ]
  },
  {
   "cell_type": "code",
   "execution_count": null,
   "metadata": {},
   "outputs": [],
   "source": [
    "city_name = ...\n",
    "temperature = ...\n",
    "humidity = ...\n",
    "weather_description = ...\n",
    "wind_speed = ...\n",
    "\n",
    "print(f\"City: {city_name}, Temperature: {temperature}°C, Humidity: {humidity}%, Weather: {weather_description}, Wind Speed: {wind_speed} m/s\")"
   ]
  },
  {
   "cell_type": "markdown",
   "metadata": {},
   "source": [
    "# 6: Create a data frame using pandas \n",
    "\n",
    "Create columns and give the data frame the data you've collected. "
   ]
  },
  {
   "cell_type": "code",
   "execution_count": null,
   "metadata": {},
   "outputs": [],
   "source": [
    "df = ...\n",
    "\n",
    "df"
   ]
  },
  {
   "cell_type": "markdown",
   "metadata": {},
   "source": [
    "## 7: Get data for more cities\n",
    "\n",
    "Nice work! you've got data for London and made a data frame. But let's now get data for more cities so we can compare. \n",
    "\n",
    "Start by making a list of the cities you want to get data for. You'll be making an API request for each city and the API limit is 60 requests a minute, so don't do more than this. 5-10 will be good."
   ]
  },
  {
   "cell_type": "code",
   "execution_count": null,
   "metadata": {},
   "outputs": [],
   "source": [
    "cities = [...]"
   ]
  },
  {
   "cell_type": "markdown",
   "metadata": {},
   "source": [
    "## 8: Use a for loop to make multiple requests\n",
    "\n",
    "Make a for loop to create a request for each city. Add the data you've collected to a the `cities_weather_data` list. \n",
    "\n",
    "If you're struggling then pair up with a group mate, but basically what you're doing is most of the previous steps within a single loop."
   ]
  },
  {
   "cell_type": "code",
   "execution_count": null,
   "metadata": {},
   "outputs": [],
   "source": [
    "weather_data_list = []\n",
    "\n",
    "for city in cities:\n",
    "    \n",
    "    response = # Make a request to the API using the city name\n",
    "\n",
    "    if response.status_code == 200:\n",
    "        response_json = ...\n",
    "        city_name = ...\n",
    "        temperature = ...\n",
    "        humidity = ...\n",
    "        weather_description = ...\n",
    "        wind_speed = ...\n",
    "        \n",
    "        # create a dictionary with the extracted data\n",
    "        extracted_data = {\"\": ... , \"\": ... }\n",
    "        \n",
    "        # append the dictionary to the list\n",
    "        weather_data_list.append(extracted_data)\n",
    "        \n",
    "weather_data_list"
   ]
  },
  {
   "cell_type": "markdown",
   "metadata": {},
   "source": [
    "## 9: Create a data frame with all your cities.\n",
    "\n",
    "You should just be able to give the dataframe function your `weather_data_list ` list. "
   ]
  },
  {
   "cell_type": "code",
   "execution_count": null,
   "metadata": {},
   "outputs": [],
   "source": [
    "weather_data_df = ..."
   ]
  },
  {
   "cell_type": "markdown",
   "metadata": {},
   "source": [
    "## 10: Organise the data by temperature\n",
    "\n",
    "Organise by dataframe by the temperature column, and reset the index. "
   ]
  },
  {
   "cell_type": "code",
   "execution_count": null,
   "metadata": {},
   "outputs": [],
   "source": []
  },
  {
   "cell_type": "markdown",
   "metadata": {},
   "source": [
    "## 11: Export the data as a CSV\n",
    "\n",
    "Look for data frame to CSV function"
   ]
  },
  {
   "cell_type": "code",
   "execution_count": null,
   "metadata": {},
   "outputs": [],
   "source": []
  },
  {
   "cell_type": "markdown",
   "metadata": {},
   "source": [
    "## 12: Plot your data on a graph using matplot lib \n",
    "\n",
    "Pick a data point and plot it on a graph. Experiment with graph types and formatting. Try plotting more than one data point for each city e.g temperature and humidity. "
   ]
  },
  {
   "cell_type": "code",
   "execution_count": null,
   "metadata": {},
   "outputs": [],
   "source": []
  },
  {
   "cell_type": "markdown",
   "metadata": {},
   "source": [
    "## Extra Challenges \n",
    "- Modify your script to handle additional cities dynamically by reading from an external CSV file containing a list of cities. You could find a data set on kaggle or create a dataframe and export as CSV.\n",
    "- Implement error handling for network issues, API rate limits, and incorrect city names"
   ]
  }
 ],
 "metadata": {
  "kernelspec": {
   "display_name": ".venv",
   "language": "python",
   "name": "python3"
  },
  "language_info": {
   "codemirror_mode": {
    "name": "ipython",
    "version": 3
   },
   "file_extension": ".py",
   "mimetype": "text/x-python",
   "name": "python",
   "nbconvert_exporter": "python",
   "pygments_lexer": "ipython3",
   "version": "3.11.9"
  }
 },
 "nbformat": 4,
 "nbformat_minor": 2
}
