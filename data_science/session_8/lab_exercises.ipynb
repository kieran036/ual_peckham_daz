{
 "cells": [
  {
   "cell_type": "markdown",
   "metadata": {},
   "source": [
    "#### Before you start, create a repository for this session, as you will be doing code reviews of your exercises, add your team as collaborators\n",
    "✅✅✅✅"
   ]
  },
  {
   "cell_type": "markdown",
   "metadata": {},
   "source": [
    "#### Exercise 1: import necessary libraries to carry out analysis using pandas and to visualise the dataset [brazilian_amazon_fires_1999_2019.csv](brazilian_amazon_fires_1999_2019.csv)"
   ]
  },
  {
   "cell_type": "markdown",
   "metadata": {},
   "source": [
    "#### Exercise 2: Load the data and display the first few rows\n"
   ]
  },
  {
   "cell_type": "markdown",
   "metadata": {},
   "source": [
    "#### Exercise 3: Display basic summary statistics and check for missing values\n",
    "\n",
    " tip: [check the documentation](https://pandas.pydata.org/docs/getting_started/intro_tutorials/06_calculate_statistics.html)"
   ]
  },
  {
   "cell_type": "markdown",
   "metadata": {},
   "source": [
    "#### Exercise 4: Exploratory Data Analysis - Count of firespots by state\n",
    "\n",
    "- Analyze the distribution of firespots across different states."
   ]
  },
  {
   "cell_type": "code",
   "execution_count": null,
   "metadata": {
    "vscode": {
     "languageId": "plaintext"
    }
   },
   "outputs": [],
   "source": [
    "#grouping the data by 'state' and sum the number of 'firespots'\n",
    "\n",
    "\n",
    "#sorting the results by the number of firespots in descending order\n",
    "\n",
    "#plot the results using a bar plot\n",
    "#remember in the lecture example we used plt.plot for a basic line plot but now we need a bar , follow that example to set color too\n",
    "\n",
    "\n",
    "\n",
    "\n",
    "#show your plot"
   ]
  },
  {
   "cell_type": "markdown",
   "metadata": {},
   "source": [
    "#### Exercise 5: Code Review your analysis and plot\n",
    "- use github to do this, you can do this on someone else's repository but you will need to for it \n",
    "\n",
    "\n",
    "## Forking a Repository\n",
    "\n",
    "What is Forking? Forking creates a personal copy of someone else's repository under your Git account. It's typically used when you want to contribute to a project that you don't have direct write access to.\n",
    "\n",
    "When to Fork: Contributing to Open Source Projects: If you're contributing to an open-source project or any repository where you don't have write permissions, you'll fork the repository to create your own version that you can work on. Personal Changes: If you want to experiment with or make personal changes to someone else's project without affecting the original project, you fork it.\n",
    "\n",
    "How to Fork: On GitHub (or similar platforms), navigate to the repository you want to contribute to and click the “Fork” button. This creates a copy of the repository under your account.\n",
    "\n",
    "Next Steps After Forking: Clone the Forked Repository: Once you've forked the repository, clone it to your local machine to start working on it.\n",
    "\n",
    "git clone https://github.com/your-username/forked-repo.git\n",
    "\n",
    "\n",
    "Make Changes: After cloning, you can create branches, make changes, and commit them as you would with any other repository.\n",
    "\n",
    "Submit a Pull Request: Once your changes are ready, you can submit a pull request from your forked repository back to the original repository to propose your changes.\n",
    "\n",
    "\n",
    "## **github code review**\n",
    "\n",
    "**Create a New Branch:**\n",
    "- Start by creating a new branch from your main branch (usually main or master).\n",
    "- Make your changes or implement the new feature in this branch.\n",
    "\n",
    "\n",
    "`git checkout -b my-feature-branch\n",
    "`     \n",
    "\n",
    "**Commit Your Changes:**\n",
    "\n",
    "After making the necessary changes, commit them to your branch.\n",
    "\n",
    "`git add .`\n",
    "`git commit -m \"Implemented feature X\"`\n",
    "\n",
    "     \n",
    "**Push the Branch to Your Repository:**\n",
    "**Push the new branch to your remote repository.**\n",
    "\n",
    "`git push origin my-feature-branch\n",
    "`\n",
    "     \n",
    "**Create a Pull Request:**\n",
    "\n",
    "- Go to your repository on GitHub.\n",
    "- You’ll see an option to create a pull request for the branch you just pushed. Click on it and fill in the PR details.\n",
    "\n",
    "**Review your code:\n",
    "**\n",
    "Once the pull request is created, you can review your changes in the PR interface. This allows you to see a diff of your changes, add comments, and reflect on the code as if you were a reviewer.\n",
    "\n",
    "- explore the code\n",
    "\n",
    "- is there anything you are particularly interested in? they used a different color? you dont understand something? you would like to know more about their choices?\n",
    "\n",
    "You can also take advantage of any automated tests, linting, or CI/CD pipelines you have set up to validate your changes.\n",
    "\n",
    "**Approve and merge the PR:\n",
    "**\n",
    "If you’re satisfied with the review, you can approve and merge the pull request. Alternatively, you can make further changes by pushing additional commits to the same branch.\n",
    "\n",
    "After merging, you can delete the branch if it’s no longer needed.\n",
    "\n",
    "\n",
    "\n",
    "\n"
   ]
  },
  {
   "cell_type": "markdown",
   "metadata": {},
   "source": [
    "#### Exercise 6: Pair programming \n",
    "\n",
    "The task is to show firespost on a map using plotly with OpenStreetMap\n",
    "\n",
    "- with the same dataset, now show the firesposts in a map\n",
    "- you already have access to the data latitude and longitud\n",
    "- since we want to show the data on a map, you will need to use a library that lets you do this in an easy, straighfoward way - matplotlib has geopandas but there are also other libraries \n",
    "- let's use plotly.express   > particularly useful for generating quick, interactive plots with minimal code.\n",
    "- you will need to install plotly\n",
    "\n",
    "- check the documentation for guide \n",
    "[https://plotly.com/python/mapbox-density-heatmaps/](https://plotly.com/python/mapbox-density-heatmaps/)\n"
   ]
  },
  {
   "cell_type": "code",
   "execution_count": null,
   "metadata": {
    "vscode": {
     "languageId": "plaintext"
    }
   },
   "outputs": [],
   "source": [
    "#import libraries\n",
    "\n",
    "\n",
    "#load data\n",
    "\n",
    "#create density mapbox\n",
    "\n",
    "\n",
    "#display map"
   ]
  },
  {
   "cell_type": "markdown",
   "metadata": {},
   "source": []
  }
 ],
 "metadata": {
  "language_info": {
   "name": "python"
  }
 },
 "nbformat": 4,
 "nbformat_minor": 2
}
