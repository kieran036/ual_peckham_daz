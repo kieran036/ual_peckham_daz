{
 "cells": [
  {
   "cell_type": "markdown",
   "metadata": {},
   "source": [
    "#### Before you start, create a repository for this session, as you will be doing code reviews of your exercises, add your team as collaborators\n",
    "✅✅✅✅"
   ]
  },
  {
   "cell_type": "markdown",
   "metadata": {},
   "source": [
    "#### Exercise 1: import necessary libraries to carry out analysis using pandas and to visualise the dataset [brazilian_amazon_fires_1999_2019.csv](brazilian_amazon_fires_1999_2019.csv)"
   ]
  },
  {
   "cell_type": "markdown",
   "metadata": {},
   "source": [
    "#### Exercise 2: Load the data and display the first few rows\n"
   ]
  },
  {
   "cell_type": "markdown",
   "metadata": {},
   "source": [
    "#### Exercise 3: Display basic summary statistics and check for missing values\n",
    "\n",
    " tip: [check the documentation](https://pandas.pydata.org/docs/getting_started/intro_tutorials/06_calculate_statistics.html)"
   ]
  },
  {
   "cell_type": "markdown",
   "metadata": {},
   "source": [
    "#### Exercise 4: Exploratory Data Analysis - Count of firespots by state\n",
    "\n",
    "- Analyze the distribution of firespots across different states."
   ]
  },
  {
   "cell_type": "code",
   "execution_count": null,
   "metadata": {
    "vscode": {
     "languageId": "plaintext"
    }
   },
   "outputs": [],
   "source": [
    "#grouping the data by 'state' and sum the number of 'firespots'\n",
    "\n",
    "\n",
    "#sorting the results by the number of firespots in descending order\n",
    "\n",
    "#plot the results using a bar plot\n",
    "#remember in the lecture example we used plt.plot for a basic line plot but now we need a bar , follow that example to set color too\n",
    "\n",
    "\n",
    "\n",
    "\n",
    "#show your plot"
   ]
  },
  {
   "cell_type": "markdown",
   "metadata": {},
   "source": [
    "#### Exercise 5: Code Review your analysis and plot\n",
    "- use github to do this \n",
    "\n",
    "- explore the code\n",
    "\n",
    "- is there anything you are particularly interested in? they used a different color? you dont understand something? you would like to know more about their choices?\n",
    "\n",
    "- leave review - something nice!!"
   ]
  },
  {
   "cell_type": "markdown",
   "metadata": {},
   "source": [
    "#### Exercise 6: Pair programming \n",
    "\n",
    "The task is to show firespost on a map using plotly with OpenStreetMap\n",
    "\n",
    "- with the same dataset, now show the firesposts in a map\n",
    "- you already have access to the data latitude and longitud\n",
    "- since we want to show the data on a map, you will need to use a library that lets you do this in an easy, straighfoward way - matplotlib has geopandas but there are also other libraries \n",
    "- let's use plotly.express   > particularly useful for generating quick, interactive plots with minimal code.\n",
    "- you will need to install plotly\n",
    "\n",
    "- check the documentation for guide \n",
    "[https://plotly.com/python/mapbox-density-heatmaps/](https://plotly.com/python/mapbox-density-heatmaps/)\n"
   ]
  },
  {
   "cell_type": "code",
   "execution_count": null,
   "metadata": {
    "vscode": {
     "languageId": "plaintext"
    }
   },
   "outputs": [],
   "source": [
    "#import libraries\n",
    "\n",
    "\n",
    "#load data\n",
    "\n",
    "#create density mapbox\n",
    "\n",
    "\n",
    "#display map"
   ]
  },
  {
   "cell_type": "markdown",
   "metadata": {},
   "source": []
  }
 ],
 "metadata": {
  "language_info": {
   "name": "python"
  }
 },
 "nbformat": 4,
 "nbformat_minor": 2
}
