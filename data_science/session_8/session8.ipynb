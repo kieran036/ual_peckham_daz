{
 "cells": [
  {
   "cell_type": "markdown",
   "metadata": {},
   "source": [
    "# Data Analysis and Visualization with Pandas and Matplotlib"
   ]
  },
  {
   "cell_type": "markdown",
   "metadata": {},
   "source": [
    "## NEXT WEEK SESSION WILL BE AT\n",
    "\n",
    "45-65 Peckham Rd, London SE5 8UF\n",
    "\n",
    "\n",
    "\n",
    "[University of the Arts London, Camberwell College of Arts, 45-65 Peckham Rd, London SE5 8UF](https://maps.app.goo.gl/b9hhP49fTpfu5Y6Z9)"
   ]
  },
  {
   "cell_type": "markdown",
   "metadata": {},
   "source": [
    "## 1. Introduction to Pandas\n",
    "🐼🐼🐼🐼\n",
    "\n",
    "### Pandas\n",
    "\n",
    "Pandas is a powerful data manipulation and analysis library for Python.\n",
    "\n",
    "Key features: 🔑🔑🔑🔑🔑\n",
    "\n",
    "\n",
    "- DataFrame: 2D labeled data structure with columns of potentially different types\n",
    "- Series: 1D labeled array that can hold data of any type\n",
    "- Powerful data alignment and integrated handling of missing data\n",
    "- Merging and joining datasets\n",
    "- Time series functionality\n",
    "\n",
    " \n",
    "\n",
    "Pandas is great for loading, cleaning, and analysing structured data.\n",
    "\n",
    "[pandas-dev GitHub](https://github.com/pandas-dev/pandas)\n",
    "[pandas Website](https://pandas.pydata.org/)"
   ]
  },
  {
   "cell_type": "markdown",
   "metadata": {},
   "source": [
    "#### 1. **DataFrame**\n",
    "- **Definition**: A DataFrame is a 2D (two-dimensional) labeled data structure, similar to a table or a spreadsheet. It consists of rows and columns where each column can hold data of different types (e.g., integers, floats, strings, etc.).\n",
    "- **Structure**: \n",
    "  - **Rows**: Represent individual records or observations.\n",
    "  - **Columns**: Represent different variables or features.\n",
    "  - **Index**: Labels for the rows, which can be customized.\n",
    "  \n",
    "  **Example**:\n",
    "  | Name  | Age | Salary  |\n",
    "  |-------|-----|---------|\n",
    "  | Alice | 28  | 70000   |\n",
    "  | Bob   | 34  | 80000   |\n",
    "  | Carol | 23  | 65000   |\n",
    "\n",
    "  In this DataFrame:\n",
    "  - Columns: \"Name\", \"Age\", \"Salary\".\n",
    "  - Rows: Individual records (Alice, Bob, Carol).\n",
    "  - The data types are different across columns: \"Name\" is a string, \"Age\" is an integer, and \"Salary\" is a float."
   ]
  },
  {
   "cell_type": "markdown",
   "metadata": {},
   "source": [
    "#### 2. Series\n",
    "\n",
    "- **Definition**: A Series is a 1D (one-dimensional) labeled array that can hold data of any type, similar to a single column in a DataFrame. Each element in a Series has an associated label (index).\n",
    "\n",
    "\n",
    "- **Structure**:\n",
    "\n",
    "\n",
    "  - **Index**: A unique label for each data point.\n",
    "  - **Data**: The values associated with each index.\n",
    "\n",
    "  **Example**:\n",
    "\n",
    "  **Age Series:**\n",
    "\n",
    "| Index | Age |\n",
    "|-------|-----|\n",
    "| 0     | 28  |\n",
    "| 1     | 34  |\n",
    "| 2     | 23  |\n",
    "\n",
    "*dtype: int64*\n",
    "\n",
    "Here, \"Age Series\" is a Series where the index (0, 1, 2) labels each age value."
   ]
  },
  {
   "cell_type": "code",
   "execution_count": 23,
   "metadata": {},
   "outputs": [
    {
     "name": "stdout",
     "output_type": "stream",
     "text": [
      "0                  42\n",
      "1             Peckham\n",
      "2                3.14\n",
      "3                True\n",
      "4                None\n",
      "5    {'key': 'value'}\n",
      "6           [1, 2, 3]\n",
      "dtype: object\n"
     ]
    }
   ],
   "source": [
    "import pandas as pd\n",
    "\n",
    "# creating a Series with different data types\n",
    "data = pd.Series([42, 'Peckham', 3.14, True, None, {\"key\": \"value\"}, [1, 2, 3]])\n",
    "\n",
    "print(data)"
   ]
  },
  {
   "cell_type": "markdown",
   "metadata": {},
   "source": [
    "`dtype: object`\n",
    "\n",
    "This means that the Series contains elements of various data types or complex data types, such as strings, dictionaries, lists, or any custom Python objects. The object data type is a general-purpose type that can hold any Python object."
   ]
  },
  {
   "cell_type": "markdown",
   "metadata": {},
   "source": [
    "By default, Pandas assigns a numeric index to the rows in a Series or DataFrame, starting at 0. \n",
    "\n",
    "\n",
    "However, you can **customize** these indexes at the time of creation or afterwards, using labels that are meaningful in your context."
   ]
  },
  {
   "cell_type": "code",
   "execution_count": 3,
   "metadata": {},
   "outputs": [
    {
     "name": "stdout",
     "output_type": "stream",
     "text": [
      "a    3\n",
      "b   -5\n",
      "c    7\n",
      "d    4\n",
      "dtype: int64\n"
     ]
    }
   ],
   "source": [
    "# creating a Series with custom index labels\n",
    "s = pd.Series([3, -5, 7, 4], index=['a', 'b', 'c', 'd'])\n",
    "\n",
    "print(s)"
   ]
  },
  {
   "cell_type": "markdown",
   "metadata": {},
   "source": [
    "`dtype: int64 `\n",
    "The Series contains 64-bit integer values"
   ]
  },
  {
   "cell_type": "markdown",
   "metadata": {},
   "source": [
    "![al text](https://www.kdnuggets.com/wp-content/uploads/pandas-02.png)"
   ]
  },
  {
   "cell_type": "markdown",
   "metadata": {},
   "source": [
    "#### 3. Allows us to align data and handle missing data\n",
    "\n",
    "- **Data alignment**: Pandas automatically aligns data based on the index when performing operations like addition, subtraction, etc., ensuring that values with the same index are operated on."
   ]
  },
  {
   "cell_type": "code",
   "execution_count": 25,
   "metadata": {},
   "outputs": [
    {
     "name": "stdout",
     "output_type": "stream",
     "text": [
      "DataFrame 1 (Week 1 Temperatures):\n",
      "                Average Temp (°C)\n",
      "Location                         \n",
      "Central London               15.5\n",
      "Camden                       14.8\n",
      "Greenwich                    16.2\n",
      "Westminster                  15.0\n",
      "\n",
      "DataFrame 2 (Week 2 Temperatures):\n",
      "                Average Temp (°C)\n",
      "Location                         \n",
      "Central London               16.2\n",
      "Camden                       15.7\n",
      "Greenwich                    14.8\n",
      "Brixton                      17.3\n",
      "\n",
      "Total Temperature Over Two Weeks (Aligned by Location Index):\n",
      "                Average Temp (°C)\n",
      "Location                         \n",
      "Brixton                       NaN\n",
      "Camden                      15.25\n",
      "Central London              15.85\n",
      "Greenwich                   15.50\n",
      "Westminster                   NaN\n"
     ]
    }
   ],
   "source": [
    "import pandas as pd\n",
    "\n",
    "#creating the first DataFrame with Week 1 average temperatures\n",
    "data1 = {\n",
    "    'Location': ['Central London', 'Camden', 'Greenwich', 'Westminster'],\n",
    "    'Average Temp (°C)': [15.5, 14.8, 16.2, 15.0]\n",
    "}\n",
    "\n",
    "#creating the second DataFrame with Week 2 average temperatures\n",
    "data2 = {\n",
    "    'Location': ['Central London', 'Camden', 'Greenwich', 'Brixton'],\n",
    "    'Average Temp (°C)': [16.2, 15.7, 14.8, 17.3]\n",
    "}\n",
    "\n",
    "df1 = pd.DataFrame(data1)\n",
    "df2 = pd.DataFrame(data2)\n",
    "\n",
    "#setting the 'Location' column as the index\n",
    "df1.set_index('Location', inplace=True)\n",
    "df2.set_index('Location', inplace=True)\n",
    "\n",
    "#adding the two DataFrames to get the total temperature over the two weeks\n",
    "df_avg_temp = (df1 + df2) / 2\n",
    "\n",
    "# BUT - does it makes sense to just sum the temperatures?\n",
    "\n",
    "# What would be a more appropriate use of this data? What would we want to know?\n",
    "\n",
    "print(\"DataFrame 1 (Week 1 Temperatures):\")\n",
    "print(df1)\n",
    "\n",
    "print(\"\\nDataFrame 2 (Week 2 Temperatures):\")\n",
    "print(df2)\n",
    "\n",
    "print(\"\\nTotal Temperature Over Two Weeks (Aligned by Location Index):\")\n",
    "print(df_avg_temp)\n",
    "\n"
   ]
  },
  {
   "cell_type": "markdown",
   "metadata": {},
   "source": [
    "Since the columns have the same name (Average Temp (°C)) in both DataFrames, pandas aligns the data by the Location index and makes the calculation of the temperature values directly."
   ]
  },
  {
   "cell_type": "markdown",
   "metadata": {},
   "source": [
    "- **Missing data handling**: Pandas provides built-in functionality to handle missing data (NaN). \n",
    "\n",
    "\n",
    "For example, you can fill missing values, drop rows/columns with missing values, or interpolate missing data."
   ]
  },
  {
   "cell_type": "code",
   "execution_count": 26,
   "metadata": {},
   "outputs": [
    {
     "name": "stdout",
     "output_type": "stream",
     "text": [
      "Original Average Temperature DataFrame (with NaN):\n",
      "                Average Temp (°C)\n",
      "Location                         \n",
      "Brixton                       NaN\n",
      "Camden                      15.25\n",
      "Central London              15.85\n",
      "Greenwich                   15.50\n",
      "Westminster                   NaN\n",
      "\n",
      "Average Temperature with Missing Values Filled (using mean):\n",
      "                Average Temp (°C)\n",
      "Location                         \n",
      "Brixton                 15.533333\n",
      "Camden                  15.250000\n",
      "Central London          15.850000\n",
      "Greenwich               15.500000\n",
      "Westminster             15.533333\n",
      "\n",
      "Average Temperature with Missing Data Dropped:\n",
      "                Average Temp (°C)\n",
      "Location                         \n",
      "Camden                      15.25\n",
      "Central London              15.85\n",
      "Greenwich                   15.50\n",
      "\n",
      "Average Temperature with Missing Values Interpolated:\n",
      "                Average Temp (°C)\n",
      "Location                         \n",
      "Brixton                       NaN\n",
      "Camden                      15.25\n",
      "Central London              15.85\n",
      "Greenwich                   15.50\n",
      "Westminster                 15.50\n"
     ]
    }
   ],
   "source": [
    "# Option 1: Fill missing values with a specific value (e.g., 0 or mean of the available temperatures)\n",
    "df_avg_temp_filled = df_avg_temp.fillna(df_avg_temp.mean())\n",
    "\n",
    "# Option 2: Drop rows where any data is missing\n",
    "df_avg_temp_dropped = df_avg_temp.dropna()\n",
    "\n",
    "# Option 3: Interpolate missing values\n",
    "df_avg_temp_interpolated = df_avg_temp.interpolate()\n",
    "\n",
    "print(\"Original Average Temperature DataFrame (with NaN):\")\n",
    "print(df_avg_temp)\n",
    "\n",
    "print(\"\\nAverage Temperature with Missing Values Filled (using mean):\")\n",
    "print(df_avg_temp_filled)\n",
    "\n",
    "print(\"\\nAverage Temperature with Missing Data Dropped:\")\n",
    "print(df_avg_temp_dropped)\n",
    "\n",
    "print(\"\\nAverage Temperature with Missing Values Interpolated:\")\n",
    "print(df_avg_temp_interpolated)"
   ]
  },
  {
   "cell_type": "markdown",
   "metadata": {},
   "source": [
    "Explanation:\n",
    "\n",
    "- Original DataFrame (`df_avg_temp`): After calculating the average temperature over two weeks, some locations will have NaN values due to missing data for one of the weeks.\n",
    "\n",
    "- Filling Missing Values (`df_avg_temp_filled`): This example fills missing values with the mean of the available temperatures. This is useful if you believe the missing data might be close to the average of the other values.\n",
    "\n",
    "- Dropping Missing Data (`df_avg_temp_dropped`): This example removes rows that have any missing data. This approach is useful when the presence of NaN values might skew your analysis.\n",
    "\n",
    "- Interpolating Missing Data (`df_avg_temp_interpolated`): This method estimates missing values based on the surrounding data, which can be especially useful when dealing with time series or data where you expect a trend."
   ]
  },
  {
   "cell_type": "markdown",
   "metadata": {},
   "source": [
    "#### 4. Merging and joining databases\n",
    "\n",
    "\n",
    "- **Merging**: Combining two or more datasets (DataFrames) based on a common column (key). \n",
    "\n",
    "- **Joining**: Similar to merging but primarily used for combining DataFrames based on the index.\n",
    "\n",
    "**Example**:\n",
    "- **Left DataFrame**: Contains a list of employees.\n",
    "- **Right DataFrame**: Contains their respective departments.\n",
    "\n",
    "After merging on the employee ID, you get a combined DataFrame with employee details and their departments."
   ]
  },
  {
   "cell_type": "markdown",
   "metadata": {},
   "source": [
    "### example 🙌🏾🙌🏾🙌🏾🙌🏾🙌🏾\n",
    "\n",
    "Creating two DataFrames:\n",
    "    - Start by creating two small DataFrames that contain complementary data."
   ]
  },
  {
   "cell_type": "code",
   "execution_count": 29,
   "metadata": {},
   "outputs": [],
   "source": [
    "import pandas as pd\n",
    "\n",
    "# DataFrame 1: employee information\n",
    "df1 = pd.DataFrame({\n",
    "    'EmployeeID': [1, 2, 3, 4],\n",
    "    'Name': ['Alice', 'Bob', 'Charlie', 'David'],\n",
    "    'Age': [28, 34, 23, 45]\n",
    "})\n",
    "\n",
    "# DataFrame 2: department information\n",
    "df2 = pd.DataFrame({\n",
    "    'EmployeeID': [1, 2, 3, 5],\n",
    "    'Department': ['HR', 'Finance', 'IT', 'Marketing'],\n",
    "    'Salary': [50000, 60000, 70000, 80000]\n",
    "})"
   ]
  },
  {
   "cell_type": "markdown",
   "metadata": {},
   "source": [
    "Merge the DataFrames:\n",
    "    - Merging these DataFrames on the `EmployeeID` column"
   ]
  },
  {
   "cell_type": "code",
   "execution_count": 30,
   "metadata": {},
   "outputs": [
    {
     "name": "stdout",
     "output_type": "stream",
     "text": [
      "   EmployeeID     Name  Age Department  Salary\n",
      "0           1    Alice   28         HR   50000\n",
      "1           2      Bob   34    Finance   60000\n",
      "2           3  Charlie   23         IT   70000\n"
     ]
    }
   ],
   "source": [
    "\n",
    "merged_df = pd.merge(df1, df2, on='EmployeeID', how='inner')\n",
    "\n",
    "print(merged_df)\n"
   ]
  },
  {
   "cell_type": "markdown",
   "metadata": {},
   "source": [
    "When we merge two DataFrames in Pandas, we can specify different types of merges depending on how we want to combine the data. \n",
    "\n",
    "The primary types of merges are `inner, outer, left, and right`. \n",
    "Each of these merges handles rows with matching keys differently. \n",
    "\n",
    "We just did an inner merge.\n"
   ]
  },
  {
   "cell_type": "markdown",
   "metadata": {},
   "source": [
    "An inner join returns only the rows where the key (column used for merging) is present in both DataFrames.\n",
    "\n",
    "Rows that do not have a matching key in both DataFrames are excluded from the result"
   ]
  },
  {
   "cell_type": "markdown",
   "metadata": {},
   "source": [
    "#### Outer join (merge)\n",
    "\n",
    "An outer join returns all rows from both DataFrames. Where there are missing matches, the result will have `NaN`values."
   ]
  },
  {
   "cell_type": "code",
   "execution_count": 32,
   "metadata": {},
   "outputs": [
    {
     "name": "stdout",
     "output_type": "stream",
     "text": [
      "   EmployeeID     Name   Age Department   Salary\n",
      "0           1    Alice  28.0         HR  50000.0\n",
      "1           2      Bob  34.0    Finance  60000.0\n",
      "2           3  Charlie  23.0         IT  70000.0\n",
      "3           4    David  45.0        NaN      NaN\n",
      "4           5      NaN   NaN  Marketing  80000.0\n"
     ]
    }
   ],
   "source": [
    "outer_merge = pd.merge(df1, df2, on='EmployeeID', how='outer')\n",
    "print(outer_merge)"
   ]
  },
  {
   "cell_type": "markdown",
   "metadata": {},
   "source": [
    "All rows from both DataFrames are included. \n",
    "`EmployeeID 4` from `df1` and `EmployeeID 5` from `df2` do not have matches in the other DataFrame, so their respective columns are filled with `NaN`"
   ]
  },
  {
   "cell_type": "markdown",
   "metadata": {},
   "source": [
    "#### Left join (merge) ⬅️⬅️⬅️⬅️\n",
    "\n",
    "A left join returns all rows from the left DataFrame, and the matching rows from the right DataFrame. If there is no match, the result will contain `NaN` for columns from the right DataFrame.\n",
    "\n",
    "This type of merge is useful when you want to keep all the data from the left DataFrame and only bring in matching data from the right DataFrame."
   ]
  },
  {
   "cell_type": "code",
   "execution_count": 34,
   "metadata": {},
   "outputs": [
    {
     "name": "stdout",
     "output_type": "stream",
     "text": [
      "   EmployeeID     Name  Age Department   Salary\n",
      "0           1    Alice   28         HR  50000.0\n",
      "1           2      Bob   34    Finance  60000.0\n",
      "2           3  Charlie   23         IT  70000.0\n",
      "3           4    David   45        NaN      NaN\n"
     ]
    }
   ],
   "source": [
    "left_merge = pd.merge(df1, df2, on='EmployeeID', how='left')\n",
    "print(left_merge)"
   ]
  },
  {
   "cell_type": "markdown",
   "metadata": {},
   "source": [
    "All rows from `df1` are included. `EmployeeID` 4 from `df1` does not have a matching entry in `df2`, so `Department` and `Salary` columns are filled with `NaN`"
   ]
  },
  {
   "cell_type": "markdown",
   "metadata": {},
   "source": [
    "#### Right join (merge) ➡️➡️➡️➡️\n",
    "\n",
    "A right join returns all rows from the right DataFrame, and the matching rows from the left DataFrame. If there is no match, the result will contain `NaN` for columns from the left DataFrame."
   ]
  },
  {
   "cell_type": "code",
   "execution_count": 35,
   "metadata": {},
   "outputs": [
    {
     "name": "stdout",
     "output_type": "stream",
     "text": [
      "   EmployeeID     Name   Age Department  Salary\n",
      "0           1    Alice  28.0         HR   50000\n",
      "1           2      Bob  34.0    Finance   60000\n",
      "2           3  Charlie  23.0         IT   70000\n",
      "3           5      NaN   NaN  Marketing   80000\n"
     ]
    }
   ],
   "source": [
    "\n",
    "right_merge = pd.merge(df1, df2, on='EmployeeID', how='right')\n",
    "print(right_merge)\n"
   ]
  },
  {
   "cell_type": "markdown",
   "metadata": {},
   "source": [
    "All rows from `df2` are included. `EmployeeID` 5 from `df2` does not have a match in `df1`, so `Name` and `Age` columns are filled with `NaN`"
   ]
  },
  {
   "cell_type": "markdown",
   "metadata": {},
   "source": [
    "#### 5. **Time Series Functionality** 🕰️🕰️\n",
    "- Pandas provides specialized functionality for time series data, including date parsing, frequency conversion, moving window statistics, and time zone handling.\n",
    "\n",
    "\n",
    "**Resampling**:\n",
    "Aggregating time series data into different frequencies (e.g., converting daily data to monthly data).\n",
    "\n",
    "\n",
    "**Shifting**: \n",
    "Moving data forward or backward in time.\n"
   ]
  },
  {
   "cell_type": "markdown",
   "metadata": {},
   "source": [
    "##### Example: Analyzing Voter Turnout in Elections\n",
    "\n",
    "Scenario:\n",
    "\n",
    "![alt text](https://www.centreformentalhealth.org.uk/wp-content/uploads/2024/02/Electoral-Research-Banner-Feb-2024-1600x650.jpg)\n",
    "\n",
    "\n",
    "\n",
    "Imagine you have data on voter turnout for national elections over several years. The data is recorded annually, but you want to analyse it in a more detailed way, such as looking at trends over decades or comparing voter turnout between consecutive elections."
   ]
  },
  {
   "cell_type": "code",
   "execution_count": 36,
   "metadata": {},
   "outputs": [
    {
     "name": "stdout",
     "output_type": "stream",
     "text": [
      "            VoterTurnout\n",
      "Year                    \n",
      "1980-01-01          55.3\n",
      "1984-01-01          57.2\n",
      "1988-01-01          58.1\n",
      "1992-01-01          61.3\n",
      "1996-01-01          59.9\n",
      "2000-01-01          54.5\n",
      "2004-01-01          60.2\n",
      "2008-01-01          62.3\n",
      "2012-01-01          63.5\n",
      "2016-01-01          66.1\n",
      "2020-01-01          67.8\n"
     ]
    }
   ],
   "source": [
    "\n",
    "\n",
    "data = {\n",
    "    'Year': ['1980', '1984', '1988', '1992', '1996', '2000', '2004', '2008', '2012', '2016', '2020'],\n",
    "    'VoterTurnout': [55.3, 57.2, 58.1, 61.3, 59.9, 54.5, 60.2, 62.3, 63.5, 66.1, 67.8]\n",
    "}\n",
    "\n",
    "df = pd.DataFrame(data)\n",
    "\n",
    "# converting 'Year' to datetime format and set it as the index\n",
    "df['Year'] = pd.to_datetime(df['Year'])\n",
    "df.set_index('Year', inplace=True)\n",
    "print(df)"
   ]
  },
  {
   "cell_type": "markdown",
   "metadata": {},
   "source": [
    "#### Resampling \n",
    "\n",
    "We want to analyze voter turnout trends over each decade to see how engagement in elections has changed over time.\n"
   ]
  },
  {
   "cell_type": "code",
   "execution_count": 37,
   "metadata": {},
   "outputs": [
    {
     "name": "stdout",
     "output_type": "stream",
     "text": [
      "            VoterTurnout\n",
      "Year                    \n",
      "1980-12-31     55.300000\n",
      "1990-12-31     57.650000\n",
      "2000-12-31     58.566667\n",
      "2010-12-31     61.250000\n",
      "2020-12-31     65.800000\n"
     ]
    },
    {
     "name": "stderr",
     "output_type": "stream",
     "text": [
      "/var/folders/7z/z23csxh13p75lh0y4lwsgfk40000gn/T/ipykernel_7578/1661979869.py:1: FutureWarning: 'A' is deprecated and will be removed in a future version, please use 'YE' instead.\n",
      "  decade_turnout = df.resample('10A').mean()  # '10A' resamples to every 10 years (decade)\n"
     ]
    }
   ],
   "source": [
    "decade_turnout = df.resample('10A').mean()  # '10A' resamples to every 10 years (decade)\n",
    "print(decade_turnout)"
   ]
  },
  {
   "cell_type": "markdown",
   "metadata": {},
   "source": [
    "`'10A'` is a frequency string used in Pandas to specify the resampling frequency.\n",
    "\n",
    "`'10'`: The number 10 represents the frequency interval, in this case, 10 years.\n",
    "\n",
    "`'A'`: The letter A stands for annual frequency, and it means the data should be resampled based on the year-end frequency."
   ]
  },
  {
   "cell_type": "markdown",
   "metadata": {},
   "source": [
    "Other examples of frequency strings:\n",
    "\n",
    "    'D': Daily frequency.\n",
    "    'W': Weekly frequency.\n",
    "    'M': Monthly frequency.\n",
    "    'Q': Quarterly frequency.\n",
    "    'A': Annual frequency (year-end).\n",
    "    'H': Hourly frequency.\n",
    "    'T' or 'min': Minute frequency.\n",
    "\n",
    "These strings can be combined with numbers to specify different intervals. For example, '2W' for bi-weekly or '6M' for semi-annual."
   ]
  },
  {
   "cell_type": "markdown",
   "metadata": {},
   "source": [
    "#### Shifting\n",
    "\n",
    "Scenario:\n",
    "\n",
    "We want to compare voter turnout between consecutive elections to measure the change in voter engagement from one election to the next.\n",
    "\n"
   ]
  },
  {
   "cell_type": "code",
   "execution_count": 38,
   "metadata": {},
   "outputs": [
    {
     "name": "stdout",
     "output_type": "stream",
     "text": [
      "            VoterTurnout  TurnoutChange\n",
      "Year                                   \n",
      "1980-01-01          55.3            NaN\n",
      "1984-01-01          57.2            1.9\n",
      "1988-01-01          58.1            0.9\n",
      "1992-01-01          61.3            3.2\n",
      "1996-01-01          59.9           -1.4\n",
      "2000-01-01          54.5           -5.4\n",
      "2004-01-01          60.2            5.7\n",
      "2008-01-01          62.3            2.1\n",
      "2012-01-01          63.5            1.2\n",
      "2016-01-01          66.1            2.6\n",
      "2020-01-01          67.8            1.7\n"
     ]
    }
   ],
   "source": [
    "df['TurnoutChange'] = df['VoterTurnout'].diff()\n",
    "print(df)"
   ]
  },
  {
   "cell_type": "markdown",
   "metadata": {},
   "source": [
    "The `TurnoutChange` column shows the difference in voter turnout between consecutive elections. \n",
    "\n",
    "For example, voter turnout increased by 1.9% from 1980 to 1984.\n",
    "\n",
    "\n",
    "Negative values indicate a decrease in turnout compared to the previous election, while positive values indicate an increase."
   ]
  },
  {
   "cell_type": "markdown",
   "metadata": {},
   "source": [
    "### Visualisation\n",
    "\n",
    "We are going to visualise the previous data using matplotlib\n",
    "\n",
    "##### What is matplotlib?\n",
    "\n",
    "![\\[matplotlib image\\](https://encrypted-tbn0.gstatic.com/images?q=tbn:ANd9GcRe58iJZoBU7Yxel-ymTJsmLj9n7S7gsRfSivn5DwHQxxTGA3RfgdU7i5qtKvZ6m710w_0&usqp=CAU)](https://upload.wikimedia.org/wikipedia/commons/c/ca/Mpl_screenshot_figures_and_code.png)\n",
    "\n",
    "A Python 2D plotting library that produces publication-quality figures in a variety of formats (such as PNG, PDF, and SVG) and interactive environments across platforms.\n",
    "\n",
    "Matplotlib is designed to work like [MATLAB](https://uk.mathworks.com/products/matlab.html), hence its name, and is great for generating plots in scripts, shell, web application servers, and various graphical user interfaces.\n",
    "\n",
    "![alt text](https://datascientest.com/en/files/2023/09/matplotlib-graphs-1024x576.png)"
   ]
  },
  {
   "cell_type": "markdown",
   "metadata": {},
   "source": [
    "#### Installation "
   ]
  },
  {
   "cell_type": "code",
   "execution_count": 17,
   "metadata": {},
   "outputs": [
    {
     "name": "stdout",
     "output_type": "stream",
     "text": [
      "Collecting matplotlib\n",
      "  Using cached matplotlib-3.9.2-cp311-cp311-macosx_11_0_arm64.whl (7.8 MB)\n",
      "Collecting contourpy>=1.0.1\n",
      "  Using cached contourpy-1.2.1-cp311-cp311-macosx_11_0_arm64.whl (245 kB)\n",
      "Collecting cycler>=0.10\n",
      "  Using cached cycler-0.12.1-py3-none-any.whl (8.3 kB)\n",
      "Collecting fonttools>=4.22.0\n",
      "  Using cached fonttools-4.53.1-cp311-cp311-macosx_11_0_arm64.whl (2.2 MB)\n",
      "Collecting kiwisolver>=1.3.1\n",
      "  Using cached kiwisolver-1.4.5-cp311-cp311-macosx_11_0_arm64.whl (66 kB)\n",
      "Requirement already satisfied: numpy>=1.23 in /Users/ysb1a23/24-intro-to-data-science/daz-venv/lib/python3.11/site-packages (from matplotlib) (2.1.0)\n",
      "Requirement already satisfied: packaging>=20.0 in /Users/ysb1a23/24-intro-to-data-science/daz-venv/lib/python3.11/site-packages (from matplotlib) (24.1)\n",
      "Collecting pillow>=8\n",
      "  Using cached pillow-10.4.0-cp311-cp311-macosx_11_0_arm64.whl (3.4 MB)\n",
      "Collecting pyparsing>=2.3.1\n",
      "  Using cached pyparsing-3.1.2-py3-none-any.whl (103 kB)\n",
      "Requirement already satisfied: python-dateutil>=2.7 in /Users/ysb1a23/24-intro-to-data-science/daz-venv/lib/python3.11/site-packages (from matplotlib) (2.9.0.post0)\n",
      "Requirement already satisfied: six>=1.5 in /Users/ysb1a23/24-intro-to-data-science/daz-venv/lib/python3.11/site-packages (from python-dateutil>=2.7->matplotlib) (1.16.0)\n",
      "Installing collected packages: pyparsing, pillow, kiwisolver, fonttools, cycler, contourpy, matplotlib\n",
      "Successfully installed contourpy-1.2.1 cycler-0.12.1 fonttools-4.53.1 kiwisolver-1.4.5 matplotlib-3.9.2 pillow-10.4.0 pyparsing-3.1.2\n",
      "\n",
      "\u001b[1m[\u001b[0m\u001b[34;49mnotice\u001b[0m\u001b[1;39;49m]\u001b[0m\u001b[39;49m A new release of pip available: \u001b[0m\u001b[31;49m22.3\u001b[0m\u001b[39;49m -> \u001b[0m\u001b[32;49m24.2\u001b[0m\n",
      "\u001b[1m[\u001b[0m\u001b[34;49mnotice\u001b[0m\u001b[1;39;49m]\u001b[0m\u001b[39;49m To update, run: \u001b[0m\u001b[32;49mpip install --upgrade pip\u001b[0m\n",
      "Note: you may need to restart the kernel to use updated packages.\n"
     ]
    }
   ],
   "source": [
    "pip install matplotlib"
   ]
  },
  {
   "cell_type": "markdown",
   "metadata": {},
   "source": [
    "#### Basic structure of a matplotlib plot\n",
    "\n",
    "\n",
    "Matplotlib's plots are created using a combination of figure, axes, and plot commands.\n",
    "\n",
    "**Figure**: The entire window or page that contains all the plotting elements.\n",
    "\n",
    "**Axes**: The individual plots or graphs within the figure (think of them as subplots). Each figure can have multiple axes.\n",
    "\n",
    "**Plot**: The actual data visualization, like lines, bars, etc., that are drawn within the axes.\n",
    "\n",
    "![alt text](https://media.geeksforgeeks.org/wp-content/uploads/20240408125953/Matplotlib.png)"
   ]
  },
  {
   "cell_type": "markdown",
   "metadata": {},
   "source": [
    "Let's create our first plot, plotting a line graph"
   ]
  },
  {
   "cell_type": "code",
   "execution_count": 42,
   "metadata": {},
   "outputs": [
    {
     "data": {
      "image/png": "[encoded data removed]",
      "text/plain": [
       "<Figure size 800x500 with 1 Axes>"
      ]
     },
     "metadata": {},
     "output_type": "display_data"
    }
   ],
   "source": [
    "import pandas as pd\n",
    "import matplotlib.pyplot as plt\n",
    "from pandas.plotting import register_matplotlib_converters\n",
    "\n",
    "#our data\n",
    "data = {\n",
    "    'Year': ['1980', '1984', '1988', '1992', '1996', '2000', '2004', '2008', '2012', '2016', '2020'],\n",
    "    'VoterTurnout': [55.3, 57.2, 58.1, 61.3, 59.9, 54.5, 60.2, 62.3, 63.5, 66.1, 67.8]\n",
    "}\n",
    "\n",
    "#creating the DataFrame\n",
    "df = pd.DataFrame(data)\n",
    "\n",
    "#converting 'Year' to datetime format and set it as the index\n",
    "df['Year'] = pd.to_datetime(df['Year'])\n",
    "df.set_index('Year', inplace=True)\n",
    "\n",
    "#plotting the data\n",
    "plt.figure(figsize=(8, 5))\n",
    "plt.plot(df.index, df['VoterTurnout'], marker='o', color='pink')\n",
    "\n",
    "#adding title and labels\n",
    "plt.title('Voter Turnout Over the Years')\n",
    "plt.xlabel('Year')\n",
    "plt.ylabel('Voter Turnout (%)')\n",
    "\n",
    "#display the plot\n",
    "plt.show()\n"
   ]
  },
  {
   "cell_type": "markdown",
   "metadata": {},
   "source": [
    "### Data Analysis \n",
    "\n",
    "In this notebook, we will be using the matplotlib library in Python to visualize fires data in the Brazilian amazon.\n",
    "\n",
    "The version I am using is from this [Kaggle page](https://www.kaggle.com/datasets/mbogernetto/brazilian-amazon-rainforest-degradation) which also has other interesting data to explore (deforestation). This dataset is credited to INPE, [National Institute for Space Research](https://www.gov.br/inpe/pt-br). \n",
    "\n",
    "Essentially what we have is data on amount of fire outbreaks in Brazilian Amazon by *state* (region), *month and year*, *latitude* and *longitud* from 1999 to 2019.\n",
    "\n",
    "The intention is to use this dataset and these features to visualise the data in a variety of ways, to explore the process of data visualisation and be critical of this process too."
   ]
  },
  {
   "cell_type": "markdown",
   "metadata": {},
   "source": [
    "Loading the Dataset\n",
    "- and displaying the first rows of the dataframe"
   ]
  },
  {
   "cell_type": "code",
   "execution_count": 43,
   "metadata": {},
   "outputs": [
    {
     "data": {
      "text/html": [
       "<div>\n",
       "<style scoped>\n",
       "    .dataframe tbody tr th:only-of-type {\n",
       "        vertical-align: middle;\n",
       "    }\n",
       "\n",
       "    .dataframe tbody tr th {\n",
       "        vertical-align: top;\n",
       "    }\n",
       "\n",
       "    .dataframe thead th {\n",
       "        text-align: right;\n",
       "    }\n",
       "</style>\n",
       "<table border=\"1\" class=\"dataframe\">\n",
       "  <thead>\n",
       "    <tr style=\"text-align: right;\">\n",
       "      <th></th>\n",
       "      <th>year</th>\n",
       "      <th>month</th>\n",
       "      <th>state</th>\n",
       "      <th>latitude</th>\n",
       "      <th>longitude</th>\n",
       "      <th>firespots</th>\n",
       "    </tr>\n",
       "  </thead>\n",
       "  <tbody>\n",
       "    <tr>\n",
       "      <th>0</th>\n",
       "      <td>1999</td>\n",
       "      <td>1</td>\n",
       "      <td>AMAZONAS</td>\n",
       "      <td>-2.371113</td>\n",
       "      <td>-59.899933</td>\n",
       "      <td>3</td>\n",
       "    </tr>\n",
       "    <tr>\n",
       "      <th>1</th>\n",
       "      <td>1999</td>\n",
       "      <td>1</td>\n",
       "      <td>MARANHAO</td>\n",
       "      <td>-2.257395</td>\n",
       "      <td>-45.487831</td>\n",
       "      <td>36</td>\n",
       "    </tr>\n",
       "    <tr>\n",
       "      <th>2</th>\n",
       "      <td>1999</td>\n",
       "      <td>1</td>\n",
       "      <td>MATO GROSSO</td>\n",
       "      <td>-12.660633</td>\n",
       "      <td>-55.057989</td>\n",
       "      <td>18</td>\n",
       "    </tr>\n",
       "    <tr>\n",
       "      <th>3</th>\n",
       "      <td>1999</td>\n",
       "      <td>1</td>\n",
       "      <td>PARA</td>\n",
       "      <td>-2.474820</td>\n",
       "      <td>-48.546967</td>\n",
       "      <td>87</td>\n",
       "    </tr>\n",
       "    <tr>\n",
       "      <th>4</th>\n",
       "      <td>1999</td>\n",
       "      <td>1</td>\n",
       "      <td>RONDONIA</td>\n",
       "      <td>-12.861700</td>\n",
       "      <td>-60.513100</td>\n",
       "      <td>1</td>\n",
       "    </tr>\n",
       "  </tbody>\n",
       "</table>\n",
       "</div>"
      ],
      "text/plain": [
       "   year  month        state   latitude  longitude  firespots\n",
       "0  1999      1     AMAZONAS  -2.371113 -59.899933          3\n",
       "1  1999      1     MARANHAO  -2.257395 -45.487831         36\n",
       "2  1999      1  MATO GROSSO -12.660633 -55.057989         18\n",
       "3  1999      1         PARA  -2.474820 -48.546967         87\n",
       "4  1999      1     RONDONIA -12.861700 -60.513100          1"
      ]
     },
     "execution_count": 43,
     "metadata": {},
     "output_type": "execute_result"
    }
   ],
   "source": [
    "# import pandas as pd\n",
    "\n",
    "#loading the dataset\n",
    "df = pd.read_csv('brazilian_amazon_fires_1999_2019.csv')\n",
    "\n",
    "#display the first few rows of the dataframe to understand its structure\n",
    "df.head()\n"
   ]
  },
  {
   "cell_type": "markdown",
   "metadata": {},
   "source": [
    "#### Exploratory Data Analysis (EDA)\n",
    "\n",
    "Let's perform some basic EDA to get a sense of the data, such as checking for missing values, understanding data types, and exploring initial trends."
   ]
  },
  {
   "cell_type": "code",
   "execution_count": 44,
   "metadata": {},
   "outputs": [
    {
     "name": "stdout",
     "output_type": "stream",
     "text": [
      "Missing values in each column:\n",
      "year         0\n",
      "month        0\n",
      "state        0\n",
      "latitude     0\n",
      "longitude    0\n",
      "firespots    0\n",
      "dtype: int64\n",
      "The dataset contains 2104 rows and 6 columns.\n"
     ]
    }
   ],
   "source": [
    "\n",
    "print(\"Missing values in each column:\")\n",
    "print(df.isnull().sum())\n",
    "\n",
    "#describing the dataset\n",
    "df.describe()\n",
    "\n",
    "#getting the shape of the data\n",
    "print(f\"The dataset contains {df.shape[0]} rows and {df.shape[1]} columns.\")\n"
   ]
  },
  {
   "cell_type": "markdown",
   "metadata": {},
   "source": [
    "#### Trend analysis \n",
    "\n",
    "Let's analyse the trend in the number of fires over the years."
   ]
  },
  {
   "cell_type": "code",
   "execution_count": 47,
   "metadata": {},
   "outputs": [
    {
     "data": {
      "image/png": "[encoded data removed]",
      "text/plain": [
       "<Figure size 1000x500 with 1 Axes>"
      ]
     },
     "metadata": {},
     "output_type": "display_data"
    }
   ],
   "source": [
    "import matplotlib.pyplot as plt\n",
    "\n",
    "#grouping data by year and summing the number of fires\n",
    "df['year'] = pd.to_datetime(df['year'], format='%Y')\n",
    "\n",
    "\n",
    "yearly_fires = df.groupby(df['year'].dt.year)['firespots'].sum()\n",
    "\n",
    "#plotting the trend\n",
    "plt.figure(figsize=(10, 5))\n",
    "\n",
    "plt.plot(yearly_fires.index, yearly_fires.values, marker='o', color='orange')\n",
    "\n",
    "plt.title('Trend of Fires in the Brazilian Amazon (1999-2019)')\n",
    "\n",
    "plt.xlabel('Year')\n",
    "plt.ylabel('Number of Fires')\n",
    "plt.grid(True)\n",
    "plt.xticks(yearly_fires.index)\n",
    "plt.show()\n"
   ]
  },
  {
   "cell_type": "markdown",
   "metadata": {},
   "source": [
    "# Code Review\n",
    "\n",
    "\n",
    "[What is a code review?](https://about.gitlab.com/topics/version-control/what-is-code-review/)\n",
    "\n",
    "### Four main approaches\n",
    "\n",
    "##### Pair programming \n",
    "\n",
    "![alt text](https://images.ctfassets.net/k428n7s2pxlu/1aJnbCcUvAa4qiIg4kMeI/9c93dd78ff2c7c5ffbff3e14f5878a87/6-reasons-for-pair-programming.jpg)\n",
    "\n",
    "How does it work?\n",
    "\n",
    "![https://martinfowler.com/articles/on-pair-programming/driver_navigator.png](https://martinfowler.com/articles/on-pair-programming/driver_navigator.png)\n",
    "\n",
    "\n",
    "Why do pair programming?\n",
    "1. Greater efficiency\n",
    "2. Engaged collaboration\n",
    "3. Learning from fellow students\n",
    "4. Social skills\n",
    "5. Job interview readiness\n",
    "6. Work environment readiness"
   ]
  },
  {
   "cell_type": "markdown",
   "metadata": {},
   "source": [
    "#### Tool-assisted reviews \n",
    "\n",
    "[github code review features](https://github.com/features/code-review)"
   ]
  },
  {
   "cell_type": "markdown",
   "metadata": {},
   "source": [
    "#### Over-the-shoulder reviews \n",
    "\n",
    "In an over-the-shoulder-review, two developers — the author and reviewer — team up in person or remotely through a shared screen and the author explains the completed change proposal and offers reasoning for the chosen solutions."
   ]
  },
  {
   "cell_type": "markdown",
   "metadata": {},
   "source": [
    "#### Email pass-around \n",
    "\n",
    "Email pass-arounds are often used for minor difficulties and small pieces of code. They can be conducted via email or source code management systems. During an email pass-around, an author sends an email containing code changes to reviewers."
   ]
  }
 ],
 "metadata": {
  "kernelspec": {
   "display_name": "Python 3",
   "language": "python",
   "name": "python3"
  },
  "language_info": {
   "codemirror_mode": {
    "name": "ipython",
    "version": 3
   },
   "file_extension": ".py",
   "mimetype": "text/x-python",
   "name": "python",
   "nbconvert_exporter": "python",
   "pygments_lexer": "ipython3",
   "version": "3.7.3"
  }
 },
 "nbformat": 4,
 "nbformat_minor": 2
}
