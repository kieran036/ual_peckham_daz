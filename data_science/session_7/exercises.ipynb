{
 "cells": [
  {
   "cell_type": "code",
   "execution_count": null,
   "metadata": {},
   "outputs": [],
   "source": [
    "import pandas as pd\n",
    "import numpy as np"
   ]
  },
  {
   "cell_type": "markdown",
   "metadata": {},
   "source": [
    "### Task 1\n",
    "Transform the text to match the pattern below. Note the 'and' added before the last hobby. You may have a look at list slicing to achieve that. Make sure it works with any number of hobbies.\n",
    "\n",
    "my_text = 'My name is Marysia. I live in London. My hobbies are crocheting, hiking, music and computational art.'"
   ]
  },
  {
   "cell_type": "markdown",
   "metadata": {},
   "source": [
    "### Task 1\n",
    "Install and run though the basic operations of NUMPY. Once you have tried these, look at some of the operations we didn't cover. Try:\n",
    "\n",
    "Split() Sort() Filter()\n",
    "\n",
    "Check W3 schools for guidance on any of these: (https://www.w3schools.com/python/numpy/default.asp)"
   ]
  },
  {
   "cell_type": "code",
   "execution_count": 1,
   "metadata": {},
   "outputs": [
    {
     "ename": "SyntaxError",
     "evalue": "unterminated string literal (detected at line 2) (2407256276.py, line 2)",
     "output_type": "error",
     "traceback": [
      "\u001b[0;36m  Cell \u001b[0;32mIn[1], line 2\u001b[0;36m\u001b[0m\n\u001b[0;31m    Install and run though the basic operations of NUMPY. Once you have tried these, look at some of the operations we didn't cover. Try:\u001b[0m\n\u001b[0m                                                                                                                           ^\u001b[0m\n\u001b[0;31mSyntaxError\u001b[0m\u001b[0;31m:\u001b[0m unterminated string literal (detected at line 2)\n"
     ]
    }
   ],
   "source": [
    "### Task 1\n",
    "Install and run though the basic operations of NUMPY. Once you have tried these, look at some of the operations we didn't cover. Try:\n",
    "Split() Sort() Filter()\n",
    "\n",
    "Check W3 schools for guidance on any of these: (https://www.w3schools.com/python/numpy/default.asp)"
   ]
  },
  {
   "cell_type": "markdown",
   "metadata": {},
   "source": []
  }
 ],
 "metadata": {
  "kernelspec": {
   "display_name": "base",
   "language": "python",
   "name": "python3"
  },
  "language_info": {
   "codemirror_mode": {
    "name": "ipython",
    "version": 3
   },
   "file_extension": ".py",
   "mimetype": "text/x-python",
   "name": "python",
   "nbconvert_exporter": "python",
   "pygments_lexer": "ipython3",
   "version": "3.12.2"
  }
 },
 "nbformat": 4,
 "nbformat_minor": 2
}
