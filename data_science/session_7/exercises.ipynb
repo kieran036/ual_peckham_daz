{
 "cells": [
  {
   "cell_type": "code",
   "execution_count": 12,
   "metadata": {},
   "outputs": [],
   "source": [
    "import pandas as pd\n",
    "import numpy as np"
   ]
  },
  {
   "cell_type": "markdown",
   "metadata": {},
   "source": [
    "### Task 1\n",
    "Install and run though the basic operations of NUMPY. Once you have tried these, look at some of the operations we didn't cover. Try:\n",
    "\n",
    "Split() Sort() Filter()\n",
    "\n",
    "Check W3 schools for guidance on any of these: (https://www.w3schools.com/python/numpy/default.asp)"
   ]
  },
  {
   "cell_type": "markdown",
   "metadata": {},
   "source": []
  },
  {
   "cell_type": "code",
   "execution_count": null,
   "metadata": {},
   "outputs": [],
   "source": [
    "# Split() = Split an array into multiple sub-arrays as views into ary.\n",
    "# Sort() = Return a sorted copy of an array.\n",
    "# Filter() = Return elements chosen from x or y depending on condition.\n"
   ]
  },
  {
   "cell_type": "code",
   "execution_count": 3,
   "metadata": {},
   "outputs": [],
   "source": [
    "exercise_df = pd.read_csv(\"/Users/Kieran/Documents/Projects/personal/ual_peckham_daz/data_science/session_7/files/exercise_data.csv\")\n",
    "moma_df = pd.read_csv(\"/Users/Kieran/Documents/Projects/personal/ual_peckham_daz/data_science/session_7/files/moma_artworks_1000.csv\")"
   ]
  },
  {
   "cell_type": "markdown",
   "metadata": {},
   "source": [
    "# Task 2\n",
    "Data cleaning exercise\n",
    "- Empty cells\n",
    "- Data in wrong format\n",
    "- Wrong data\n",
    "- Duplicates\n"
   ]
  },
  {
   "cell_type": "code",
   "execution_count": 23,
   "metadata": {},
   "outputs": [
    {
     "name": "stderr",
     "output_type": "stream",
     "text": [
      "/var/folders/70/nwp36t1x5cs_z_7xqgkk67_c0000gn/T/ipykernel_11048/4129301947.py:6: FutureWarning: A value is trying to be set on a copy of a DataFrame or Series through chained assignment using an inplace method.\n",
      "The behavior will change in pandas 3.0. This inplace method will never work because the intermediate object on which we are setting values always behaves as a copy.\n",
      "\n",
      "For example, when doing 'df[col].method(value, inplace=True)', try using 'df.method({col: value}, inplace=True)' or df[col] = df[col].method(value) instead, to perform the operation inplace on the original object.\n",
      "\n",
      "\n",
      "  exercise_df[\"Calories\"].fillna(cal_median, inplace = True)\n"
     ]
    }
   ],
   "source": [
    "# Task 2a: Replace empty cells with median.\n",
    "\n",
    "# exercise_df.dropna(inplace = True)\n",
    "# Note: dropna(inplace = True) will NOT return a new DataFrame, but it will remove all rows containing NULL values from the original DataFrame.\n",
    "cal_median = exercise_df[\"Calories\"].median()\n",
    "exercise_df[\"Calories\"].fillna(cal_median, inplace = True)"
   ]
  },
  {
   "cell_type": "code",
   "execution_count": null,
   "metadata": {},
   "outputs": [],
   "source": [
    "# Task 2b: Replace cells with wrong format.\n",
    "\n",
    "# Code to fix date format but dataset doesn't have date col.\n",
    "# exercise_df_impute['Date'] = pd.to_datetime(exercise_df_impute['Date'])"
   ]
  },
  {
   "cell_type": "code",
   "execution_count": 24,
   "metadata": {},
   "outputs": [],
   "source": [
    "# Task 2c: Replace unusually high or low data values.\n",
    "\n",
    "for x in exercise_df.index:\n",
    "  if exercise_df.loc[x, \"Duration\"] > 120:\n",
    "    exercise_df.loc[x, \"Duration\"] = 120"
   ]
  },
  {
   "cell_type": "code",
   "execution_count": 27,
   "metadata": {},
   "outputs": [],
   "source": [
    "# Task 2d: Remove duplicates.\n",
    "\n",
    "exercise_df_impute = exercise_df[exercise_df.duplicated()]"
   ]
  },
  {
   "cell_type": "code",
   "execution_count": 28,
   "metadata": {},
   "outputs": [
    {
     "data": {
      "text/html": [
       "<div>\n",
       "<style scoped>\n",
       "    .dataframe tbody tr th:only-of-type {\n",
       "        vertical-align: middle;\n",
       "    }\n",
       "\n",
       "    .dataframe tbody tr th {\n",
       "        vertical-align: top;\n",
       "    }\n",
       "\n",
       "    .dataframe thead th {\n",
       "        text-align: right;\n",
       "    }\n",
       "</style>\n",
       "<table border=\"1\" class=\"dataframe\">\n",
       "  <thead>\n",
       "    <tr style=\"text-align: right;\">\n",
       "      <th></th>\n",
       "      <th>Duration</th>\n",
       "      <th>Pulse</th>\n",
       "      <th>Maxpulse</th>\n",
       "      <th>Calories</th>\n",
       "    </tr>\n",
       "  </thead>\n",
       "  <tbody>\n",
       "    <tr>\n",
       "      <th>Duration</th>\n",
       "      <td>1.000000</td>\n",
       "      <td>0.665013</td>\n",
       "      <td>0.544510</td>\n",
       "      <td>0.857233</td>\n",
       "    </tr>\n",
       "    <tr>\n",
       "      <th>Pulse</th>\n",
       "      <td>0.665013</td>\n",
       "      <td>1.000000</td>\n",
       "      <td>0.924527</td>\n",
       "      <td>0.927162</td>\n",
       "    </tr>\n",
       "    <tr>\n",
       "      <th>Maxpulse</th>\n",
       "      <td>0.544510</td>\n",
       "      <td>0.924527</td>\n",
       "      <td>1.000000</td>\n",
       "      <td>0.882832</td>\n",
       "    </tr>\n",
       "    <tr>\n",
       "      <th>Calories</th>\n",
       "      <td>0.857233</td>\n",
       "      <td>0.927162</td>\n",
       "      <td>0.882832</td>\n",
       "      <td>1.000000</td>\n",
       "    </tr>\n",
       "  </tbody>\n",
       "</table>\n",
       "</div>"
      ],
      "text/plain": [
       "          Duration     Pulse  Maxpulse  Calories\n",
       "Duration  1.000000  0.665013  0.544510  0.857233\n",
       "Pulse     0.665013  1.000000  0.924527  0.927162\n",
       "Maxpulse  0.544510  0.924527  1.000000  0.882832\n",
       "Calories  0.857233  0.927162  0.882832  1.000000"
      ]
     },
     "execution_count": 28,
     "metadata": {},
     "output_type": "execute_result"
    }
   ],
   "source": [
    "# Task 2e: Calculate variance, covariance matrix\n",
    "\n",
    "exercise_df_impute.corr()"
   ]
  },
  {
   "cell_type": "markdown",
   "metadata": {},
   "source": [
    "### Task 3\n",
    "\n",
    "Take a look at the example notebook. Make sure it will run correctly on your system. Run the code to scrape data from tables on a wiki page of your choice. Save as a .csv Then, use pandas to clean the data (if needed) and try find some interesting correlations."
   ]
  },
  {
   "cell_type": "markdown",
   "metadata": {},
   "source": []
  }
 ],
 "metadata": {
  "kernelspec": {
   "display_name": "base",
   "language": "python",
   "name": "python3"
  },
  "language_info": {
   "codemirror_mode": {
    "name": "ipython",
    "version": 3
   },
   "file_extension": ".py",
   "mimetype": "text/x-python",
   "name": "python",
   "nbconvert_exporter": "python",
   "pygments_lexer": "ipython3",
   "version": "3.12.2"
  }
 },
 "nbformat": 4,
 "nbformat_minor": 2
}
