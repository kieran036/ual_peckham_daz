{
 "cells": [
  {
   "cell_type": "code",
   "execution_count": 1,
   "metadata": {},
   "outputs": [],
   "source": [
    "#import required libraries\n",
    "\n",
    "# full imports go first\n",
    "import os # os is a built-in Python library for interacting with the operating system\n",
    "import requests # requests is a library for managing requests\n",
    "\n",
    "# partial imports go below\n",
    "from bs4 import BeautifulSoup # add to requirements.txt: beautifulsoup4\n",
    "from PIL import Image # add to requirements.txt: pillow"
   ]
  },
  {
   "cell_type": "code",
   "execution_count": 2,
   "metadata": {},
   "outputs": [],
   "source": [
    "### GETTING ALL IMAGES FROM A PAGE"
   ]
  },
  {
   "cell_type": "code",
   "execution_count": 3,
   "metadata": {},
   "outputs": [],
   "source": [
    "URL = \"https://en.wikipedia.org/wiki/Narwhal\"\n",
    "data = requests.get(URL)\n",
    "html_text = data.text  # raw text"
   ]
  },
  {
   "cell_type": "code",
   "execution_count": 4,
   "metadata": {},
   "outputs": [],
   "source": [
    "bs_html = BeautifulSoup(html_text, \"html.parser\")"
   ]
  },
  {
   "cell_type": "code",
   "execution_count": null,
   "metadata": {},
   "outputs": [],
   "source": [
    "# preview the html contents\n",
    "print(bs_html.prettify())"
   ]
  },
  {
   "cell_type": "code",
   "execution_count": 6,
   "metadata": {},
   "outputs": [],
   "source": [
    "image_tags = bs_html.find_all('img')"
   ]
  },
  {
   "cell_type": "code",
   "execution_count": 7,
   "metadata": {},
   "outputs": [],
   "source": [
    "accepted_image_types = ['jpg', 'jpeg', 'png', 'bmp', 'webp', 'svg']"
   ]
  },
  {
   "cell_type": "code",
   "execution_count": 8,
   "metadata": {},
   "outputs": [],
   "source": [
    "present_file_types = set(str(img_tag.get('src').split('.')[-1]) for img_tag in image_tags)"
   ]
  },
  {
   "cell_type": "code",
   "execution_count": null,
   "metadata": {},
   "outputs": [],
   "source": [
    "# what image types can we find on this page? Please note there may be some obsolete data in here\n",
    "present_file_types"
   ]
  },
  {
   "cell_type": "code",
   "execution_count": null,
   "metadata": {},
   "outputs": [],
   "source": [
    "image_tags"
   ]
  },
  {
   "cell_type": "code",
   "execution_count": null,
   "metadata": {},
   "outputs": [],
   "source": [
    "# how many tags?\n",
    "len(image_tags)"
   ]
  },
  {
   "cell_type": "code",
   "execution_count": 12,
   "metadata": {},
   "outputs": [],
   "source": [
    "# extract the image URLs from the tags\n",
    "# create an empty list\n",
    "img_urls = []\n",
    "\n",
    "for img_tag in image_tags:\n",
    "\n",
    "    # if the tag has the 'src' property\n",
    "    if img_tag.get('src'):\n",
    "\n",
    "        # extract it\n",
    "        img_src = img_tag.get('src')\n",
    "        \n",
    "        # get the image type (it's the last bit f text sfter the '.')\n",
    "        img_type = img_src.split('.')[-1]\n",
    "        \n",
    "        # skip further steps in the loop for the current image if not in the accepted types\n",
    "        if img_type.lower() in accepted_image_types and img_src.startswith('//upload'):\n",
    "            img_urls.append(f'https:{img_src}')"
   ]
  },
  {
   "cell_type": "code",
   "execution_count": null,
   "metadata": {},
   "outputs": [],
   "source": [
    "image_tags[5].get('src')"
   ]
  },
  {
   "cell_type": "code",
   "execution_count": null,
   "metadata": {},
   "outputs": [],
   "source": [
    "# how many URLs did we get?\n",
    "len(img_urls)"
   ]
  },
  {
   "cell_type": "code",
   "execution_count": null,
   "metadata": {},
   "outputs": [],
   "source": [
    "# if you preview, quite a lot of them are duplicated\n",
    "img_urls"
   ]
  },
  {
   "cell_type": "code",
   "execution_count": null,
   "metadata": {},
   "outputs": [],
   "source": [
    "# how many unique?\n",
    "unique_urls = set(img_urls)\n",
    "len(unique_urls)"
   ]
  },
  {
   "cell_type": "code",
   "execution_count": null,
   "metadata": {},
   "outputs": [],
   "source": [
    "# name of the folder where we want to sve the images. CAPITALS suggest it's a constant\n",
    "IMAGES_DIRECTORY = \"scraped_images\"\n",
    "\n",
    "current_dirs = os.listdir() # this function lists all the contents of the current folder (where the notebook is)\n",
    "current_dirs"
   ]
  },
  {
   "cell_type": "code",
   "execution_count": 18,
   "metadata": {},
   "outputs": [],
   "source": [
    "# if the folder where we want to save the images is not already there, create it\n",
    "if IMAGES_DIRECTORY not in current_dirs:\n",
    "    os.mkdir(IMAGES_DIRECTORY)  # this directory will be created in the same location where your notebook is"
   ]
  },
  {
   "cell_type": "code",
   "execution_count": 19,
   "metadata": {},
   "outputs": [],
   "source": [
    "errors = []\n",
    "\n",
    "requests.adapters.DEFAULT_RETRIES = 10\n",
    "\n",
    "# the \"enumerate\" function allows for iteration while also supplying an index for each item\n",
    "for img_index, img_url in enumerate(unique_urls):\n",
    "    \n",
    "    # get the data from the image url\n",
    "    resp = requests.get(img_url, stream=True)\n",
    "\n",
    "    # if the request is not completed\n",
    "    if resp.status_code != 200:\n",
    "        # add the image url to the errors list\n",
    "        errors.append(img_url)\n",
    "        \n",
    "    # otherwise, proceed\n",
    "    else:\n",
    "        # create a PIL.Image object\n",
    "        obj_img = Image.open(resp.raw)\n",
    "        # get the file extension from the url\n",
    "        img_type = img_url.split('.')[-1]\n",
    "        # save the image in its origial extension\n",
    "        obj_img.save(f'./{IMAGES_DIRECTORY}/img_{img_index}.{img_type}')"
   ]
  },
  {
   "cell_type": "code",
   "execution_count": null,
   "metadata": {},
   "outputs": [],
   "source": [
    "# how many errors?\n",
    "len(errors)"
   ]
  },
  {
   "cell_type": "code",
   "execution_count": null,
   "metadata": {},
   "outputs": [],
   "source": [
    "# let's see what's happened here!\n",
    "errors[0]"
   ]
  },
  {
   "cell_type": "code",
   "execution_count": 22,
   "metadata": {},
   "outputs": [],
   "source": [
    "resp = requests.get(errors[0], stream=True)"
   ]
  },
  {
   "cell_type": "code",
   "execution_count": null,
   "metadata": {},
   "outputs": [],
   "source": [
    "resp.status_code # 403 is the status code for \"Permission denied\""
   ]
  }
 ],
 "metadata": {
  "kernelspec": {
   "display_name": "Python 3 (ipykernel)",
   "language": "python",
   "name": "python3"
  },
  "language_info": {
   "codemirror_mode": {
    "name": "ipython",
    "version": 3
   },
   "file_extension": ".py",
   "mimetype": "text/x-python",
   "name": "python",
   "nbconvert_exporter": "python",
   "pygments_lexer": "ipython3",
   "version": "3.11.9"
  }
 },
 "nbformat": 4,
 "nbformat_minor": 4
}
